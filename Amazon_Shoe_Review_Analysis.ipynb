{
  "cells": [
    {
      "cell_type": "code",
      "execution_count": null,
      "metadata": {
        "colab": {
          "base_uri": "https://localhost:8080/"
        },
        "id": "V58rxea0HqSa",
        "outputId": "332c7681-548f-4d6c-edf4-82482cdeae66"
      },
      "outputs": [
        {
          "output_type": "stream",
          "name": "stdout",
          "text": [
            "\r0% [Working]\r            \rGet:1 https://cloud.r-project.org/bin/linux/ubuntu bionic-cran40/ InRelease [3,626 B]\n",
            "\r0% [Connecting to archive.ubuntu.com (185.125.190.36)] [Connecting to security.\r0% [Connecting to archive.ubuntu.com (185.125.190.36)] [Connecting to security.\r0% [1 InRelease gpgv 3,626 B] [Connecting to archive.ubuntu.com (185.125.190.36\r                                                                               \rIgn:2 https://developer.download.nvidia.com/compute/machine-learning/repos/ubuntu1804/x86_64  InRelease\n",
            "\r0% [1 InRelease gpgv 3,626 B] [Waiting for headers] [Connecting to security.ubu\r                                                                               \rHit:3 https://developer.download.nvidia.com/compute/cuda/repos/ubuntu1804/x86_64  InRelease\n",
            "Hit:4 https://developer.download.nvidia.com/compute/machine-learning/repos/ubuntu1804/x86_64  Release\n",
            "Hit:5 http://archive.ubuntu.com/ubuntu bionic InRelease\n",
            "Get:6 http://ppa.launchpad.net/c2d4u.team/c2d4u4.0+/ubuntu bionic InRelease [15.9 kB]\n",
            "Get:7 http://security.ubuntu.com/ubuntu bionic-security InRelease [88.7 kB]\n",
            "Get:8 http://archive.ubuntu.com/ubuntu bionic-updates InRelease [88.7 kB]\n",
            "Hit:9 http://ppa.launchpad.net/cran/libgit2/ubuntu bionic InRelease\n",
            "Get:10 http://archive.ubuntu.com/ubuntu bionic-backports InRelease [83.3 kB]\n",
            "Hit:11 http://ppa.launchpad.net/deadsnakes/ppa/ubuntu bionic InRelease\n",
            "Get:12 http://ppa.launchpad.net/graphics-drivers/ppa/ubuntu bionic InRelease [21.3 kB]\n",
            "Get:14 http://ppa.launchpad.net/c2d4u.team/c2d4u4.0+/ubuntu bionic/main Sources [2,226 kB]\n",
            "Get:15 http://archive.ubuntu.com/ubuntu bionic-updates/main amd64 Packages [3,519 kB]\n",
            "Get:16 http://security.ubuntu.com/ubuntu bionic-security/multiverse amd64 Packages [22.9 kB]\n",
            "Get:17 http://security.ubuntu.com/ubuntu bionic-security/restricted amd64 Packages [1,307 kB]\n",
            "Get:18 http://archive.ubuntu.com/ubuntu bionic-updates/restricted amd64 Packages [1,348 kB]\n",
            "Get:19 http://archive.ubuntu.com/ubuntu bionic-updates/multiverse amd64 Packages [30.0 kB]\n",
            "Get:20 http://ppa.launchpad.net/c2d4u.team/c2d4u4.0+/ubuntu bionic/main amd64 Packages [1,139 kB]\n",
            "Get:21 http://ppa.launchpad.net/graphics-drivers/ppa/ubuntu bionic/main amd64 Packages [40.8 kB]\n",
            "Fetched 9,933 kB in 5s (1,819 kB/s)\n",
            "Reading package lists... Done\n"
          ]
        }
      ],
      "source": [
        "import os\n",
        "spark_version = 'spark-3.0.2'\n",
        "os.environ['spark-3.0.2']=spark_version\n",
        "# Install Spark and Java\n",
        "!apt-get update\n",
        "!apt-get install openjdk-11-jdk-headless -qq > /dev/null\n",
        "!wget -q https://archive.apache.org/dist/spark/spark-3.0.2/spark-3.0.2-bin-hadoop2.7.tgz\n",
        "!tar xf spark-3.0.2-bin-hadoop2.7.tgz\n",
        "!pip install -q findspark\n",
        "# Set Environment Variables\n",
        "import os\n",
        "os.environ[\"JAVA_HOME\"] = \"/usr/lib/jvm/java-11-openjdk-amd64\"\n",
        "os.environ[\"SPARK_HOME\"] = \"/content/spark-3.0.2-bin-hadoop2.7\"\n",
        "# Start a SparkSession\n",
        "import findspark\n",
        "findspark.init()"
      ]
    },
    {
      "cell_type": "code",
      "execution_count": null,
      "metadata": {
        "id": "MMqDAjVS0KN9"
      },
      "outputs": [],
      "source": [
        "from pyspark.sql import SparkSession\n",
        "spark = SparkSession.builder.appName(\"BigData-Challenge\").config(\"spark.driver.extraClassPath\").getOrCreate()"
      ]
    },
    {
      "cell_type": "markdown",
      "metadata": {
        "id": "cyBsySGuY-9V"
      },
      "source": [
        "### Load Amazon Data into Spark DataFrame"
      ]
    },
    {
      "cell_type": "code",
      "execution_count": null,
      "metadata": {
        "colab": {
          "base_uri": "https://localhost:8080/"
        },
        "id": "CtCmBhQJY-9Z",
        "outputId": "f0f4681b-f492-4e92-e84a-c032491193a4"
      },
      "outputs": [
        {
          "output_type": "stream",
          "name": "stdout",
          "text": [
            "+-----------+-----------+--------------+----------+--------------+--------------------+----------------+-----------+-------------+-----------+----+-----------------+--------------------+--------------------+-----------+\n",
            "|marketplace|customer_id|     review_id|product_id|product_parent|       product_title|product_category|star_rating|helpful_votes|total_votes|vine|verified_purchase|     review_headline|         review_body|review_date|\n",
            "+-----------+-----------+--------------+----------+--------------+--------------------+----------------+-----------+-------------+-----------+----+-----------------+--------------------+--------------------+-----------+\n",
            "|         US|   18069663|R3P2HIOQCIN5ZU|B000XB31C0|     265024781|Minnetonka Men's ...|           Shoes|          1|            0|          0|   N|                Y|                   .|Do not buy: reall...| 2015-08-31|\n",
            "|         US|   16251825|R12VVR0WH5Q24V|B00CFYZH5W|     259035853|Teva Men's Pajaro...|           Shoes|          5|            0|          0|   N|                Y|     super flip flop|provides great cu...| 2015-08-31|\n",
            "|         US|   20381037| RNCCKB6TV5EEF|B00S8JNN3Q|     666066660|Anne Klein Perfec...|           Shoes|          4|            0|          0|   N|                Y| Great clutch purse!|It's perfect if y...| 2015-08-31|\n",
            "|         US|     108364|R2NZXYIVCGB13W|B00XFBPOQG|     448483263|adidas Men's 10K ...|           Shoes|          5|            0|          6|   N|                Y|              Badass|  Getting what u see| 2015-08-31|\n",
            "|         US|   45449350|R2EQ1TG9IT3OEQ|B00SW64Y9W|       7853171|OverBling Sneaker...|           Shoes|          3|            0|          0|   N|                Y|         Three Stars|               small| 2015-08-31|\n",
            "|         US|   19324665|R1WXA9JSC2H1U1|B011F9E6LI|      14311457|MESSI 15.3 FG/AG ...|           Shoes|          5|            1|          1|   N|                Y|          Five Stars|My 13 year old so...| 2015-08-31|\n",
            "|         US|   50073594|R12ENYLFGGNWRV|B00HAUP1OI|     264821602|Hoka One One Men'...|           Shoes|          5|            1|          1|   N|                Y|Finally, some cus...|Ok, I have been s...| 2015-08-31|\n",
            "|         US|   21706057|R2R07E5PNXEUO5|B00L1RKOKW|     767118055|Olukai Nohea Mesh...|           Shoes|          4|            0|          0|   N|                Y|good deal, but ha...|I went a full siz...| 2015-08-31|\n",
            "|         US|   13708216|R27BA52AKWMWN3|B005WA9MSE|     813856438|Carolina Mens 6\" ...|           Shoes|          5|            0|          0|   N|                Y|... would have to...|I would have to s...| 2015-08-31|\n",
            "|         US|   40542649| RLF8DOID2KD5O|B00BEYQI5C|     661491213|Alegria Women's S...|           Shoes|          3|            0|          0|   N|                Y|           Too small|The size is misle...| 2015-08-31|\n",
            "|         US|   13409446|R369CEXHXHC6NQ|B00EYAFTCQ|     332158165|Naturalizer Women...|           Shoes|          5|            0|          0|   N|                Y|          Five Stars|These shoes are v...| 2015-08-31|\n",
            "|         US|    9451727|R171PPIJXFONVI|B00I0QHY32|      49243908|Forever Link Wome...|           Shoes|          5|            0|          0|   N|                Y|          Five Stars|I love these sand...| 2015-08-31|\n",
            "|         US|     193731|R2JDNM8F2P06FU|B010FZZKYA|     161497902|Versace Collectio...|           Shoes|          4|            1|          1|   N|                Y|          Four Stars|Good quality shoe...| 2015-08-31|\n",
            "|         US|   34798634|R2W977FO4M97XT|B00V8B30K2|     759958795|Twisted Girl's Ch...|           Shoes|          5|            0|          1|   N|                Y|Good shoes, comfo...|My daughter reall...| 2015-08-31|\n",
            "|         US|   37235551|R3AM24QPLI28UY|B00LAVB1TC|     910150896|Travel Smart Hand...|           Shoes|          2|            1|          2|   N|                Y|           Two Stars|         It's okay .| 2015-08-31|\n",
            "|         US|   27081399| REDVXSFYVNT5T|B003C1P8B0|     762792587|Saucony Originals...|           Shoes|          5|            0|          0|   N|                Y|    Love these shoes|Love these shoes!...| 2015-08-31|\n",
            "|         US|     120678|R14AIIK7D6ENDZ|B000W3UL7W|     123724495|Dr. Marten's Wome...|           Shoes|          5|            0|          0|   N|                Y|          Five Stars|                Good| 2015-08-31|\n",
            "|         US|   22272389|R3B1NURKMCVAL1|B00LX65PQO|     848850234|Skechers Performa...|           Shoes|          3|            2|          2|   N|                Y|         Three Stars|I like the go wal...| 2015-08-31|\n",
            "|         US|   19584241|R14Q1GZGV10IMX|B00BEE7N3I|     211637196|Hi-Tec Kid's Nepa...|           Shoes|          4|            0|          0|   N|                Y|          Four Stars|Kids love them fo...| 2015-08-31|\n",
            "|         US|   12334573| R9BHBB06QD6TM|B008NCHMBW|     138572112|Foot Sox Original...|           Shoes|          1|            2|          2|   N|                Y|Tissue paper is t...|Tissue paper is t...| 2015-08-31|\n",
            "+-----------+-----------+--------------+----------+--------------+--------------------+----------------+-----------+-------------+-----------+----+-----------------+--------------------+--------------------+-----------+\n",
            "only showing top 20 rows\n",
            "\n"
          ]
        }
      ],
      "source": [
        "from pyspark import SparkFiles\n",
        "url = \"https://s3.amazonaws.com/amazon-reviews-pds/tsv/amazon_reviews_us_Shoes_v1_00.tsv.gz\"\n",
        "spark.sparkContext.addFile(url)\n",
        "df = spark.read.option(\"encoding\", \"UTF-8\").csv(SparkFiles.get(\"\"), sep=\"\\t\", header=True, inferSchema=True)\n",
        "df.show()"
      ]
    },
    {
      "cell_type": "code",
      "execution_count": null,
      "metadata": {
        "colab": {
          "base_uri": "https://localhost:8080/"
        },
        "id": "Rg7Qso0mCMWS",
        "outputId": "48f191f7-42c5-45a1-afed-204dc07ad0b7"
      },
      "outputs": [
        {
          "output_type": "execute_result",
          "data": {
            "text/plain": [
              "StructType(List(StructField(marketplace,StringType,true),StructField(customer_id,IntegerType,true),StructField(review_id,StringType,true),StructField(product_id,StringType,true),StructField(product_parent,IntegerType,true),StructField(product_title,StringType,true),StructField(product_category,StringType,true),StructField(star_rating,IntegerType,true),StructField(helpful_votes,IntegerType,true),StructField(total_votes,IntegerType,true),StructField(vine,StringType,true),StructField(verified_purchase,StringType,true),StructField(review_headline,StringType,true),StructField(review_body,StringType,true),StructField(review_date,StringType,true)))"
            ]
          },
          "metadata": {},
          "execution_count": 4
        }
      ],
      "source": [
        "#to check the datatypes in the dataframe\n",
        "df.schema"
      ]
    },
    {
      "cell_type": "markdown",
      "metadata": {
        "id": "2yUSe55VY-9t"
      },
      "source": [
        "### Create DataFrames to match tables"
      ]
    },
    {
      "cell_type": "code",
      "execution_count": null,
      "metadata": {
        "colab": {
          "base_uri": "https://localhost:8080/"
        },
        "id": "C8REmY1aY-9u",
        "outputId": "aebe7bcc-66de-4ee2-a8fa-d18854179417"
      },
      "outputs": [
        {
          "output_type": "stream",
          "name": "stdout",
          "text": [
            "+-----------+-----------+--------------+----------+--------------+--------------------+----------------+-----------+-------------+-----------+----+-----------------+--------------------+--------------------+-----------+\n",
            "|marketplace|customer_id|     review_id|product_id|product_parent|       product_title|product_category|star_rating|helpful_votes|total_votes|vine|verified_purchase|     review_headline|         review_body|review_date|\n",
            "+-----------+-----------+--------------+----------+--------------+--------------------+----------------+-----------+-------------+-----------+----+-----------------+--------------------+--------------------+-----------+\n",
            "|         US|   18069663|R3P2HIOQCIN5ZU|B000XB31C0|     265024781|Minnetonka Men's ...|           Shoes|          1|            0|          0|   N|                Y|                   .|Do not buy: reall...| 2015-08-31|\n",
            "|         US|   16251825|R12VVR0WH5Q24V|B00CFYZH5W|     259035853|Teva Men's Pajaro...|           Shoes|          5|            0|          0|   N|                Y|     super flip flop|provides great cu...| 2015-08-31|\n",
            "|         US|   20381037| RNCCKB6TV5EEF|B00S8JNN3Q|     666066660|Anne Klein Perfec...|           Shoes|          4|            0|          0|   N|                Y| Great clutch purse!|It's perfect if y...| 2015-08-31|\n",
            "|         US|     108364|R2NZXYIVCGB13W|B00XFBPOQG|     448483263|adidas Men's 10K ...|           Shoes|          5|            0|          6|   N|                Y|              Badass|  Getting what u see| 2015-08-31|\n",
            "|         US|   45449350|R2EQ1TG9IT3OEQ|B00SW64Y9W|       7853171|OverBling Sneaker...|           Shoes|          3|            0|          0|   N|                Y|         Three Stars|               small| 2015-08-31|\n",
            "|         US|   19324665|R1WXA9JSC2H1U1|B011F9E6LI|      14311457|MESSI 15.3 FG/AG ...|           Shoes|          5|            1|          1|   N|                Y|          Five Stars|My 13 year old so...| 2015-08-31|\n",
            "|         US|   50073594|R12ENYLFGGNWRV|B00HAUP1OI|     264821602|Hoka One One Men'...|           Shoes|          5|            1|          1|   N|                Y|Finally, some cus...|Ok, I have been s...| 2015-08-31|\n",
            "|         US|   21706057|R2R07E5PNXEUO5|B00L1RKOKW|     767118055|Olukai Nohea Mesh...|           Shoes|          4|            0|          0|   N|                Y|good deal, but ha...|I went a full siz...| 2015-08-31|\n",
            "|         US|   13708216|R27BA52AKWMWN3|B005WA9MSE|     813856438|Carolina Mens 6\" ...|           Shoes|          5|            0|          0|   N|                Y|... would have to...|I would have to s...| 2015-08-31|\n",
            "|         US|   40542649| RLF8DOID2KD5O|B00BEYQI5C|     661491213|Alegria Women's S...|           Shoes|          3|            0|          0|   N|                Y|           Too small|The size is misle...| 2015-08-31|\n",
            "|         US|   13409446|R369CEXHXHC6NQ|B00EYAFTCQ|     332158165|Naturalizer Women...|           Shoes|          5|            0|          0|   N|                Y|          Five Stars|These shoes are v...| 2015-08-31|\n",
            "|         US|    9451727|R171PPIJXFONVI|B00I0QHY32|      49243908|Forever Link Wome...|           Shoes|          5|            0|          0|   N|                Y|          Five Stars|I love these sand...| 2015-08-31|\n",
            "|         US|     193731|R2JDNM8F2P06FU|B010FZZKYA|     161497902|Versace Collectio...|           Shoes|          4|            1|          1|   N|                Y|          Four Stars|Good quality shoe...| 2015-08-31|\n",
            "|         US|   34798634|R2W977FO4M97XT|B00V8B30K2|     759958795|Twisted Girl's Ch...|           Shoes|          5|            0|          1|   N|                Y|Good shoes, comfo...|My daughter reall...| 2015-08-31|\n",
            "|         US|   37235551|R3AM24QPLI28UY|B00LAVB1TC|     910150896|Travel Smart Hand...|           Shoes|          2|            1|          2|   N|                Y|           Two Stars|         It's okay .| 2015-08-31|\n",
            "|         US|   27081399| REDVXSFYVNT5T|B003C1P8B0|     762792587|Saucony Originals...|           Shoes|          5|            0|          0|   N|                Y|    Love these shoes|Love these shoes!...| 2015-08-31|\n",
            "|         US|     120678|R14AIIK7D6ENDZ|B000W3UL7W|     123724495|Dr. Marten's Wome...|           Shoes|          5|            0|          0|   N|                Y|          Five Stars|                Good| 2015-08-31|\n",
            "|         US|   22272389|R3B1NURKMCVAL1|B00LX65PQO|     848850234|Skechers Performa...|           Shoes|          3|            2|          2|   N|                Y|         Three Stars|I like the go wal...| 2015-08-31|\n",
            "|         US|   19584241|R14Q1GZGV10IMX|B00BEE7N3I|     211637196|Hi-Tec Kid's Nepa...|           Shoes|          4|            0|          0|   N|                Y|          Four Stars|Kids love them fo...| 2015-08-31|\n",
            "|         US|   12334573| R9BHBB06QD6TM|B008NCHMBW|     138572112|Foot Sox Original...|           Shoes|          1|            2|          2|   N|                Y|Tissue paper is t...|Tissue paper is t...| 2015-08-31|\n",
            "+-----------+-----------+--------------+----------+--------------+--------------------+----------------+-----------+-------------+-----------+----+-----------------+--------------------+--------------------+-----------+\n",
            "only showing top 20 rows\n",
            "\n"
          ]
        }
      ],
      "source": [
        "from pyspark.sql.functions import to_date\n",
        "# Read in the Review dataset as a DataFrame\n",
        "customer_clean_df = df.dropna()\n",
        "customer_clean_df.show()"
      ]
    },
    {
      "cell_type": "code",
      "execution_count": null,
      "metadata": {
        "colab": {
          "base_uri": "https://localhost:8080/"
        },
        "id": "6Sg0fiDva_Df",
        "outputId": "7e871334-51a8-43ea-f64f-f31c7035de1b"
      },
      "outputs": [
        {
          "output_type": "stream",
          "name": "stdout",
          "text": [
            "+-----------+-----------+--------------+----------+--------------+--------------------+----------------+-----------+-------------+-----------+----+-----------------+--------------------+--------------------+-----------+\n",
            "|marketplace|customer_id|     review_id|product_id|product_parent|       product_title|product_category|star_rating|helpful_votes|total_votes|vine|verified_purchase|     review_headline|         review_body|review_date|\n",
            "+-----------+-----------+--------------+----------+--------------+--------------------+----------------+-----------+-------------+-----------+----+-----------------+--------------------+--------------------+-----------+\n",
            "|         US|   12731835|R1000E0AHJ5E1V|B00E9PFHPK|     257352271|Qupid Ponder-06 N...|           Shoes|          4|            0|          0|   N|                N|Adorable high qua...|These shoes are a...| 2013-10-04|\n",
            "|         US|   12123247|R100A5CHCA9GMG|B00DZI79R6|     575104294|REFRESH CHERRY-02...|           Shoes|          1|            2|          2|   N|                Y|\"Nude\" color is w...|Kinda cute design...| 2015-04-10|\n",
            "|         US|    2481979|R100A968SZR4GH|B00AMU1Z4I|     706513982|Nike Women's Luna...|           Shoes|          5|            0|          0|   N|                Y|Never had great e...|Never had great e...| 2014-08-04|\n",
            "|         US|   10761726|R100HVIG9VEABL|B003GIS6FE|     634629189|Keen Concordia Co...|           Shoes|          5|            1|          1|   N|                N|           Very nice|I've been using i...| 2011-05-14|\n",
            "|         US|   32268353|R100ZMBT0DGFFH|B0061RUKCE|     195365109|LensCovers Sungla...|           Shoes|          5|            8|         10|   N|                Y|       Actually cute|These are actuall...| 2014-08-20|\n",
            "|         US|    1796899|R101BSLZ8K12T6|B0023NTWN8|     300200501|Kamik Rocket Cold...|           Shoes|          5|            0|          1|   N|                Y|          Five Stars|        fits perfect| 2015-01-23|\n",
            "|         US|   23422005|R101I5DOJAUSZ7|B00QAKVP4E|      77952021|Gabor Lanzarote 7...|           Shoes|          4|            0|          0|   N|                Y|               Gabor|Well made. Good l...| 2015-04-01|\n",
            "|         US|   35169932|R101VVQ9LXBADV|B00B9TXEUY|     898577149|Merrell Women's J...|           Shoes|          5|            1|          1|   N|                Y|         Great shoes|I love Merrell's ...| 2014-05-30|\n",
            "|         US|   37230772|R101VY19JHVABI|B005CFVSZY|     268889520|Crocs Women's Adr...|           Shoes|          4|            0|          0|   N|                N|Very, very, very ...|I bought these at...| 2013-10-06|\n",
            "|         US|   28698079|R1026R3QQEM02Q|B000TH4T42|     361609926|Bogs Men's Classi...|           Shoes|          5|            0|          0|   N|                Y|Best foul weather...|These.are the bes...| 2015-08-20|\n",
            "+-----------+-----------+--------------+----------+--------------+--------------------+----------------+-----------+-------------+-----------+----+-----------------+--------------------+--------------------+-----------+\n",
            "only showing top 10 rows\n",
            "\n"
          ]
        }
      ],
      "source": [
        "# Drop duplicates\n",
        "customer_clean_1_df = customer_clean_df.drop_duplicates()\n",
        "customer_clean_1_df.show(10)"
      ]
    },
    {
      "cell_type": "code",
      "execution_count": null,
      "metadata": {
        "colab": {
          "base_uri": "https://localhost:8080/"
        },
        "id": "Mn-7HHrSj61H",
        "outputId": "08e37de1-65db-4d45-da6e-1c6ca6b7a250"
      },
      "outputs": [
        {
          "output_type": "stream",
          "name": "stdout",
          "text": [
            "+-----------+--------------+\n",
            "|customer_id|customer_count|\n",
            "+-----------+--------------+\n",
            "|   16121565|             5|\n",
            "|   48146680|             1|\n",
            "|   11062912|             1|\n",
            "|   51451778|             1|\n",
            "|   27920838|             1|\n",
            "+-----------+--------------+\n",
            "only showing top 5 rows\n",
            "\n"
          ]
        }
      ],
      "source": [
        "# Create the customers_table DataFrame\n",
        "customers_df = customer_clean_df.groupby(\"customer_id\").agg({\"customer_id\":\"count\"}).withColumnRenamed(\"count(customer_id)\", \"customer_count\")\n",
        "customers_df.show(5)"
      ]
    },
    {
      "cell_type": "code",
      "execution_count": null,
      "metadata": {
        "colab": {
          "base_uri": "https://localhost:8080/"
        },
        "id": "XuZxoZ2qj6-c",
        "outputId": "f7f44546-b06a-4e9f-c557-70478a09b5c4"
      },
      "outputs": [
        {
          "output_type": "execute_result",
          "data": {
            "text/plain": [
              "StructType(List(StructField(customer_id,IntegerType,true),StructField(customer_count,LongType,false)))"
            ]
          },
          "metadata": {},
          "execution_count": 8
        }
      ],
      "source": [
        "customers_df.schema"
      ]
    },
    {
      "cell_type": "code",
      "execution_count": null,
      "metadata": {
        "colab": {
          "base_uri": "https://localhost:8080/"
        },
        "id": "m9L1w7qLj7BF",
        "outputId": "92a55741-482b-442f-c137-d54d2f0ab978"
      },
      "outputs": [
        {
          "output_type": "stream",
          "name": "stdout",
          "text": [
            "+----------+--------------------+\n",
            "|product_id|       product_title|\n",
            "+----------+--------------------+\n",
            "|B001CJL5ES|L.B. Evans Men's ...|\n",
            "|B002MCVHUQ|New Balance Insol...|\n",
            "|B00UXBFW6S|Kenox Sling Backp...|\n",
            "|B002CMM4M6|Capezio Women's 1...|\n",
            "|B00HNO32BU|Timberland PRO Me...|\n",
            "|B00C6BQQW2|New Balance Men's...|\n",
            "|B00M0NREE0|New Balance Women...|\n",
            "|B00ZC4VIKK|Donalworld Women ...|\n",
            "|B00291CGH8|Justin Boots Wome...|\n",
            "|B000P6GKOO|Nike Men's Rosher...|\n",
            "|B00IEB8BQ2|Khan New 2014 Uni...|\n",
            "|B00IBGJKW4|Powerstep Ultrast...|\n",
            "|B008KK1D5S|Clarks Women's Br...|\n",
            "|B003IHV9XE|Birkenstock Women...|\n",
            "|B00M9500FY|FitFlop Women's L...|\n",
            "|B00R59ZBXU|Keds Women's Doub...|\n",
            "|B00KQ66NBS|New Balance Men's...|\n",
            "|B00E41QYRE|Jambu Women's Xte...|\n",
            "|B0106QF79Q|Sanita Women's Pr...|\n",
            "|B0084ZF7V0|DV by Dolce Vita ...|\n",
            "+----------+--------------------+\n",
            "only showing top 20 rows\n",
            "\n"
          ]
        }
      ],
      "source": [
        "# Create the products_table DataFrame and drop duplicates.\n",
        "#df.filter(\"price<20\").select(\"points\",\"country\",\"price\").show(5)\n",
        "products_df = customer_clean_df.select([\"product_id\",\"product_title\"]).drop_duplicates()\n",
        "products_df.show(20)"
      ]
    },
    {
      "cell_type": "code",
      "execution_count": null,
      "metadata": {
        "colab": {
          "base_uri": "https://localhost:8080/"
        },
        "id": "oA_XCJVrkXj7",
        "outputId": "fa8b69f7-3b88-4200-f319-2b45cd17b5c6"
      },
      "outputs": [
        {
          "output_type": "execute_result",
          "data": {
            "text/plain": [
              "StructType(List(StructField(product_id,StringType,true),StructField(product_title,StringType,true)))"
            ]
          },
          "metadata": {},
          "execution_count": 10
        }
      ],
      "source": [
        "products_df.schema"
      ]
    },
    {
      "cell_type": "code",
      "execution_count": null,
      "metadata": {
        "colab": {
          "base_uri": "https://localhost:8080/"
        },
        "id": "mU7gVppjkb9O",
        "outputId": "6c8f45f5-6c83-44ea-a464-78672dc24563"
      },
      "outputs": [
        {
          "output_type": "stream",
          "name": "stdout",
          "text": [
            "+--------------+-----------+----------+--------------+-----------+\n",
            "|     review_id|customer_id|product_id|product_parent|review_date|\n",
            "+--------------+-----------+----------+--------------+-----------+\n",
            "|R3P2HIOQCIN5ZU|   18069663|B000XB31C0|     265024781| 2015-08-31|\n",
            "|R12VVR0WH5Q24V|   16251825|B00CFYZH5W|     259035853| 2015-08-31|\n",
            "| RNCCKB6TV5EEF|   20381037|B00S8JNN3Q|     666066660| 2015-08-31|\n",
            "|R2NZXYIVCGB13W|     108364|B00XFBPOQG|     448483263| 2015-08-31|\n",
            "|R2EQ1TG9IT3OEQ|   45449350|B00SW64Y9W|       7853171| 2015-08-31|\n",
            "|R1WXA9JSC2H1U1|   19324665|B011F9E6LI|      14311457| 2015-08-31|\n",
            "|R12ENYLFGGNWRV|   50073594|B00HAUP1OI|     264821602| 2015-08-31|\n",
            "|R2R07E5PNXEUO5|   21706057|B00L1RKOKW|     767118055| 2015-08-31|\n",
            "|R27BA52AKWMWN3|   13708216|B005WA9MSE|     813856438| 2015-08-31|\n",
            "| RLF8DOID2KD5O|   40542649|B00BEYQI5C|     661491213| 2015-08-31|\n",
            "+--------------+-----------+----------+--------------+-----------+\n",
            "only showing top 10 rows\n",
            "\n"
          ]
        }
      ],
      "source": [
        "# Create the review_id_table DataFrame.\n",
        "# Convert the 'review_date' column to a date datatype with to_date(\"review_date\", 'yyyy-MM-dd').alias(\"review_date\")\n",
        "review_id_df = customer_clean_df.select([\"review_id\",\"customer_id\",\"product_id\",\"product_parent\",to_date(\"review_date\", 'yyyy-MM-dd').alias(\"review_date\")])\n",
        "review_id_df.show(10)"
      ]
    },
    {
      "cell_type": "code",
      "execution_count": null,
      "metadata": {
        "colab": {
          "base_uri": "https://localhost:8080/"
        },
        "id": "nmU6kMSDkb_7",
        "outputId": "3cea3394-0f07-4bdb-cf0a-9b859be64926"
      },
      "outputs": [
        {
          "output_type": "execute_result",
          "data": {
            "text/plain": [
              "StructType(List(StructField(review_id,StringType,true),StructField(customer_id,IntegerType,true),StructField(product_id,StringType,true),StructField(product_parent,IntegerType,true),StructField(review_date,DateType,true)))"
            ]
          },
          "metadata": {},
          "execution_count": 12
        }
      ],
      "source": [
        "review_id_df.schema"
      ]
    },
    {
      "cell_type": "code",
      "execution_count": null,
      "metadata": {
        "colab": {
          "base_uri": "https://localhost:8080/"
        },
        "id": "lzMmkdKmY--D",
        "outputId": "0cd2b377-1c67-4e2b-c390-5a14926de88c"
      },
      "outputs": [
        {
          "output_type": "stream",
          "name": "stdout",
          "text": [
            "+--------------+-----------+-------------+-----------+----+-----------------+\n",
            "|     review_id|star_rating|helpful_votes|total_votes|vine|verified_purchase|\n",
            "+--------------+-----------+-------------+-----------+----+-----------------+\n",
            "|R1000E0AHJ5E1V|          4|            0|          0|   N|                N|\n",
            "|R100A5CHCA9GMG|          1|            2|          2|   N|                Y|\n",
            "|R100A968SZR4GH|          5|            0|          0|   N|                Y|\n",
            "|R100HVIG9VEABL|          5|            1|          1|   N|                N|\n",
            "|R100ZMBT0DGFFH|          5|            8|         10|   N|                Y|\n",
            "|R101BSLZ8K12T6|          5|            0|          1|   N|                Y|\n",
            "|R101I5DOJAUSZ7|          4|            0|          0|   N|                Y|\n",
            "|R101VVQ9LXBADV|          5|            1|          1|   N|                Y|\n",
            "|R101VY19JHVABI|          4|            0|          0|   N|                N|\n",
            "|R1026R3QQEM02Q|          5|            0|          0|   N|                Y|\n",
            "|R102IW3CHZL3F4|          5|            0|          0|   N|                Y|\n",
            "|R102JNG6P6AHY7|          5|            0|          0|   N|                Y|\n",
            "|R102X52FTDKNGJ|          4|            0|          0|   N|                Y|\n",
            "|R10330PL0P9BSY|          4|            0|          0|   N|                Y|\n",
            "|R10344J7GD2XPS|          5|            0|          0|   N|                Y|\n",
            "|R103HFRKS7OKCL|          2|            0|          0|   N|                Y|\n",
            "|R103LSHIXS0HR7|          4|            0|          0|   N|                Y|\n",
            "|R103PNMOO7Y7MV|          5|            0|          0|   N|                Y|\n",
            "|R1044V6AE4VQP4|          1|            1|          1|   N|                Y|\n",
            "|R1045O9YS6DARS|          4|            1|          2|   N|                Y|\n",
            "+--------------+-----------+-------------+-----------+----+-----------------+\n",
            "only showing top 20 rows\n",
            "\n"
          ]
        }
      ],
      "source": [
        "# Create the vine_table. DataFrame\n",
        "vine_df = customer_clean_1_df.select([\"review_id\",\"star_rating\",\"helpful_votes\",\"total_votes\",\"vine\",\"verified_purchase\"])\n",
        "vine_df.show(20)"
      ]
    },
    {
      "cell_type": "code",
      "execution_count": null,
      "metadata": {
        "colab": {
          "base_uri": "https://localhost:8080/"
        },
        "id": "PyIl4h3dfRDp",
        "outputId": "3a32e73f-e40d-4142-becf-92361becd932"
      },
      "outputs": [
        {
          "output_type": "execute_result",
          "data": {
            "text/plain": [
              "StructType(List(StructField(review_id,StringType,true),StructField(star_rating,IntegerType,true),StructField(helpful_votes,IntegerType,true),StructField(total_votes,IntegerType,true),StructField(vine,StringType,true),StructField(verified_purchase,StringType,true)))"
            ]
          },
          "metadata": {},
          "execution_count": 14
        }
      ],
      "source": [
        "vine_df.schema"
      ]
    },
    {
      "cell_type": "code",
      "execution_count": null,
      "metadata": {
        "colab": {
          "base_uri": "https://localhost:8080/"
        },
        "id": "hNr-qlIngblf",
        "outputId": "6ee3684a-6588-4313-8657-d0febbf8fa71"
      },
      "outputs": [
        {
          "output_type": "stream",
          "name": "stdout",
          "text": [
            "+--------------+-----------+-------------+-----------+----+-----------------+\n",
            "|     review_id|star_rating|helpful_votes|total_votes|vine|verified_purchase|\n",
            "+--------------+-----------+-------------+-----------+----+-----------------+\n",
            "|R1000E0AHJ5E1V|          4|            0|          0|   N|                N|\n",
            "|R100A5CHCA9GMG|          1|            2|          2|   N|                Y|\n",
            "|R100A968SZR4GH|          5|            0|          0|   N|                Y|\n",
            "|R100HVIG9VEABL|          5|            1|          1|   N|                N|\n",
            "|R100ZMBT0DGFFH|          5|            8|         10|   N|                Y|\n",
            "|R101BSLZ8K12T6|          5|            0|          1|   N|                Y|\n",
            "|R101I5DOJAUSZ7|          4|            0|          0|   N|                Y|\n",
            "|R101VVQ9LXBADV|          5|            1|          1|   N|                Y|\n",
            "|R101VY19JHVABI|          4|            0|          0|   N|                N|\n",
            "|R1026R3QQEM02Q|          5|            0|          0|   N|                Y|\n",
            "+--------------+-----------+-------------+-----------+----+-----------------+\n",
            "only showing top 10 rows\n",
            "\n"
          ]
        }
      ],
      "source": [
        "#we need to convert the \"star_rating\" datatype into integer , since we have defined it as an integer in the \"vine_table\" we created in pgAdmin.\n",
        "#review_id_df = customer_clean_df.select([\"review_id\",\"customer_id\",\"product_id\",\"product_parent\",to_date(\"review_date\", 'yyyy-MM-dd').alias(\"review_date\")])\n",
        "#data_df = data_df.withColumn(\"Plays\", data_df[\"Plays\"].cast(IntegerType()))\n",
        "#customers_df = customers_df.withColumn(\"customer_count\",col(\"customer_count\").cast(\"int\"))\n",
        "vine1_df = vine_df.select([\"review_id\",vine_df[\"star_rating\"].cast(\"int\").alias(\"star_rating\"),\"helpful_votes\",\"total_votes\",\"vine\",\"verified_purchase\"])\n",
        "vine1_df .show(10)"
      ]
    },
    {
      "cell_type": "code",
      "execution_count": null,
      "metadata": {
        "colab": {
          "base_uri": "https://localhost:8080/"
        },
        "id": "j4Z_3le8oYEv",
        "outputId": "c5e951d4-d53f-4ffa-caa0-7d8589bb0562"
      },
      "outputs": [
        {
          "output_type": "execute_result",
          "data": {
            "text/plain": [
              "StructType(List(StructField(review_id,StringType,true),StructField(star_rating,IntegerType,true),StructField(helpful_votes,IntegerType,true),StructField(total_votes,IntegerType,true),StructField(vine,StringType,true),StructField(verified_purchase,StringType,true)))"
            ]
          },
          "metadata": {},
          "execution_count": 16
        }
      ],
      "source": [
        "vine1_df.schema"
      ]
    },
    {
      "cell_type": "markdown",
      "metadata": {
        "id": "jITZhLkmY--J"
      },
      "source": [
        "### Analysing the vine data"
      ]
    },
    {
      "cell_type": "code",
      "execution_count": null,
      "metadata": {
        "colab": {
          "base_uri": "https://localhost:8080/"
        },
        "id": "Exuo6ebUsCqW",
        "outputId": "224a823c-ad88-48d0-eaa0-59c8cbaf7259"
      },
      "outputs": [
        {
          "output_type": "stream",
          "name": "stdout",
          "text": [
            "+--------------+-----------+-------------+-----------+----+-----------------+\n",
            "|     review_id|star_rating|helpful_votes|total_votes|vine|verified_purchase|\n",
            "+--------------+-----------+-------------+-----------+----+-----------------+\n",
            "| RFO47EUA8VO07|          1|          153|        165|   N|                Y|\n",
            "|R1FY7QX8ZVKF3B|          2|           23|         27|   N|                Y|\n",
            "|R1JQ6FVMNPTTGJ|          5|           58|         58|   N|                Y|\n",
            "|R3TGDQWQ4IWBF4|          5|           18|         20|   N|                Y|\n",
            "| RFIFX28ALACM4|          1|           49|         51|   N|                Y|\n",
            "|R31YTDENNMDYLJ|          1|           40|         40|   N|                Y|\n",
            "|R17UV33XE6IWTX|          1|           17|         22|   N|                Y|\n",
            "| R701I3ZQH3MYJ|          5|           49|         51|   N|                Y|\n",
            "|R2SWEEB6CUQ358|          3|           36|         37|   N|                Y|\n",
            "|R320QZ1YWKW6KC|          4|           22|         24|   N|                Y|\n",
            "+--------------+-----------+-------------+-----------+----+-----------------+\n",
            "only showing top 10 rows\n",
            "\n"
          ]
        }
      ],
      "source": [
        "# 1.Filter the Vine DataFrame by those that had 20+ total votes\n",
        "df1 = vine1_df.filter(vine1_df[\"total_votes\"] >= 20)\n",
        "df1.show(10)"
      ]
    },
    {
      "cell_type": "code",
      "execution_count": null,
      "metadata": {
        "colab": {
          "base_uri": "https://localhost:8080/"
        },
        "id": "MFqR0WwonulM",
        "outputId": "e114bd5f-e383-4159-ad56-483b36b34623"
      },
      "outputs": [
        {
          "output_type": "stream",
          "name": "stdout",
          "text": [
            "+--------------+-----------+-------------+-----------+----+-----------------+\n",
            "|     review_id|star_rating|helpful_votes|total_votes|vine|verified_purchase|\n",
            "+--------------+-----------+-------------+-----------+----+-----------------+\n",
            "| RFO47EUA8VO07|          1|          153|        165|   N|                Y|\n",
            "|R1FY7QX8ZVKF3B|          2|           23|         27|   N|                Y|\n",
            "|R1JQ6FVMNPTTGJ|          5|           58|         58|   N|                Y|\n",
            "|R3TGDQWQ4IWBF4|          5|           18|         20|   N|                Y|\n",
            "| RFIFX28ALACM4|          1|           49|         51|   N|                Y|\n",
            "|R31YTDENNMDYLJ|          1|           40|         40|   N|                Y|\n",
            "|R17UV33XE6IWTX|          1|           17|         22|   N|                Y|\n",
            "| R701I3ZQH3MYJ|          5|           49|         51|   N|                Y|\n",
            "|R2SWEEB6CUQ358|          3|           36|         37|   N|                Y|\n",
            "|R320QZ1YWKW6KC|          4|           22|         24|   N|                Y|\n",
            "+--------------+-----------+-------------+-----------+----+-----------------+\n",
            "only showing top 10 rows\n",
            "\n"
          ]
        }
      ],
      "source": [
        "#2.retrieve all the rows where the number of helpful_votes divided by total_votes is equal to or greater than 50%.\n",
        "df2 = df1.filter(df1[\"helpful_votes\"]/df1[\"total_votes\"] >= 0.5)\n",
        "df2.show(10)"
      ]
    },
    {
      "cell_type": "code",
      "execution_count": null,
      "metadata": {
        "colab": {
          "base_uri": "https://localhost:8080/"
        },
        "id": "L3U6Niedoj8Z",
        "outputId": "a67a2f5d-98a1-40a0-b725-712b629c6de0"
      },
      "outputs": [
        {
          "output_type": "stream",
          "name": "stdout",
          "text": [
            "+--------------+-----------+-------------+-----------+----+-----------------+\n",
            "|     review_id|star_rating|helpful_votes|total_votes|vine|verified_purchase|\n",
            "+--------------+-----------+-------------+-----------+----+-----------------+\n",
            "|R37VCW6HA0Z72T|          5|           27|         28|   Y|                N|\n",
            "|R1SPWJDHUWWC5E|          5|           88|         98|   Y|                N|\n",
            "|R11XKHFS4KQS3Z|          4|          205|        211|   Y|                N|\n",
            "|R3A7BQX1JDKOM5|          4|           20|         20|   Y|                N|\n",
            "|R1307JMPUEQXOW|          5|           31|         35|   Y|                N|\n",
            "|R3SEZS7BZEC69Y|          5|           16|         20|   Y|                N|\n",
            "| R5OMLMK13A8NS|          5|           34|         38|   Y|                N|\n",
            "| RBMDYE7LUH9FI|          5|           26|         32|   Y|                N|\n",
            "|R1Y93KWKAX1P5N|          2|           26|         31|   Y|                N|\n",
            "|R3KOK2SH39BZU1|          3|           94|         96|   Y|                N|\n",
            "+--------------+-----------+-------------+-----------+----+-----------------+\n",
            "only showing top 10 rows\n",
            "\n"
          ]
        }
      ],
      "source": [
        "#3.Create a new DataFrame or table that retrieves all the rows where a review was written as part of the Vine program (paid), vine == 'Y'.\n",
        "vine_yes3_df = df2.filter(df2[\"vine\"] == \"Y\")\n",
        "vine_yes3_df.show(10)"
      ]
    },
    {
      "cell_type": "code",
      "execution_count": null,
      "metadata": {
        "colab": {
          "base_uri": "https://localhost:8080/"
        },
        "id": "_t59bjl6pegI",
        "outputId": "2aa81428-4d46-424f-ed08-2e8bd125efd9"
      },
      "outputs": [
        {
          "output_type": "stream",
          "name": "stdout",
          "text": [
            "+--------------+-----------+-------------+-----------+----+-----------------+\n",
            "|     review_id|star_rating|helpful_votes|total_votes|vine|verified_purchase|\n",
            "+--------------+-----------+-------------+-----------+----+-----------------+\n",
            "| RFO47EUA8VO07|          1|          153|        165|   N|                Y|\n",
            "|R1FY7QX8ZVKF3B|          2|           23|         27|   N|                Y|\n",
            "|R1JQ6FVMNPTTGJ|          5|           58|         58|   N|                Y|\n",
            "|R3TGDQWQ4IWBF4|          5|           18|         20|   N|                Y|\n",
            "| RFIFX28ALACM4|          1|           49|         51|   N|                Y|\n",
            "|R31YTDENNMDYLJ|          1|           40|         40|   N|                Y|\n",
            "|R17UV33XE6IWTX|          1|           17|         22|   N|                Y|\n",
            "| R701I3ZQH3MYJ|          5|           49|         51|   N|                Y|\n",
            "|R2SWEEB6CUQ358|          3|           36|         37|   N|                Y|\n",
            "|R320QZ1YWKW6KC|          4|           22|         24|   N|                Y|\n",
            "+--------------+-----------+-------------+-----------+----+-----------------+\n",
            "only showing top 10 rows\n",
            "\n"
          ]
        }
      ],
      "source": [
        "#4.Create a new DataFrame and retrieve all the rows where the review was not part of the Vine program (unpaid), vine == 'N'.\n",
        "vine_No4_df = df2.filter(df2[\"vine\"] == \"N\")\n",
        "vine_No4_df.show(10)\n"
      ]
    },
    {
      "cell_type": "code",
      "execution_count": null,
      "metadata": {
        "colab": {
          "base_uri": "https://localhost:8080/"
        },
        "id": "QsiO3ZWtsnVe",
        "outputId": "0e2ce0c3-ce5f-4bd1-afe5-791af23badff"
      },
      "outputs": [
        {
          "output_type": "execute_result",
          "data": {
            "text/plain": [
              "StructType(List(StructField(review_id,StringType,true),StructField(star_rating,IntegerType,true),StructField(helpful_votes,IntegerType,true),StructField(total_votes,IntegerType,true),StructField(vine,StringType,true),StructField(verified_purchase,StringType,true)))"
            ]
          },
          "metadata": {},
          "execution_count": 21
        }
      ],
      "source": [
        "vine_yes3_df.schema"
      ]
    },
    {
      "cell_type": "code",
      "execution_count": null,
      "metadata": {
        "colab": {
          "base_uri": "https://localhost:8080/"
        },
        "id": "OR5CbNaIq6Io",
        "outputId": "85a13783-1dcc-4f03-ffb0-8dbda9b10334"
      },
      "outputs": [
        {
          "output_type": "stream",
          "name": "stdout",
          "text": [
            "Total_paid_number:\n",
            "22\n",
            "Paid_five_star_number:\n",
            "13\n",
            "Percentage_five_star_vine:\n",
            "0.5909090909090909\n"
          ]
        }
      ],
      "source": [
        "#5a.The number of 5-star reviews, and the percentage of 5-star reviews for the paid review vine == Y\n",
        "Paid_five_star_number = vine_yes3_df[vine_yes3_df['star_rating']== 5].count()\n",
        "Total_paid_number = vine_yes3_df.count()\n",
        "Percentage_five_star_vine = float(Paid_five_star_number) / float(Total_paid_number)\n",
        "print (\"Total_paid_number:\")\n",
        "print(Total_paid_number)\n",
        "print (\"Paid_five_star_number:\")\n",
        "print(Paid_five_star_number)\n",
        "print (\"Percentage_five_star_vine:\")\n",
        "print(Percentage_five_star_vine)"
      ]
    },
    {
      "cell_type": "code",
      "execution_count": null,
      "metadata": {
        "colab": {
          "base_uri": "https://localhost:8080/"
        },
        "id": "LmEqqAgCxjEx",
        "outputId": "075e3088-0eef-4232-9710-585ef738cd1f"
      },
      "outputs": [
        {
          "output_type": "execute_result",
          "data": {
            "text/plain": [
              "StructType(List(StructField(review_id,StringType,true),StructField(star_rating,IntegerType,true),StructField(helpful_votes,IntegerType,true),StructField(total_votes,IntegerType,true),StructField(vine,StringType,true),StructField(verified_purchase,StringType,true)))"
            ]
          },
          "metadata": {},
          "execution_count": 23
        }
      ],
      "source": [
        "vine_No4_df.schema"
      ]
    },
    {
      "cell_type": "code",
      "execution_count": null,
      "metadata": {
        "colab": {
          "base_uri": "https://localhost:8080/"
        },
        "id": "tFneYWZwxv8s",
        "outputId": "0610a57f-d9e0-41e7-8ed2-89397c5468ed"
      },
      "outputs": [
        {
          "output_type": "stream",
          "name": "stdout",
          "text": [
            "Total_Unpaid_number:\n",
            "26924\n",
            "Unpaid_five_star_number:\n",
            "14439\n",
            "Percentage_five_star_vine_Unpaid:\n",
            "0.5362873272916358\n"
          ]
        }
      ],
      "source": [
        "#5b.The number of 5-star reviews, and the percentage of 5-star reviews for the unpaid review vine == N\n",
        "Unpaid_five_star_number = vine_No4_df[vine_No4_df['star_rating']== 5].count()\n",
        "Total_Unpaid_number = vine_No4_df.count()\n",
        "Percentage_five_star_vine_Unpaid = float(Unpaid_five_star_number) / float(Total_Unpaid_number)\n",
        "print (\"Total_Unpaid_number:\")\n",
        "print(Total_Unpaid_number)\n",
        "print (\"Unpaid_five_star_number:\")\n",
        "print(Unpaid_five_star_number)\n",
        "print (\"Percentage_five_star_vine_Unpaid:\")\n",
        "print(Percentage_five_star_vine_Unpaid)"
      ]
    },
    {
      "cell_type": "code",
      "execution_count": null,
      "metadata": {
        "id": "JOL8WqYGjnxG"
      },
      "outputs": [],
      "source": [
        "import matplotlib.pyplot as plt,numpy as np"
      ]
    },
    {
      "cell_type": "code",
      "execution_count": null,
      "metadata": {
        "colab": {
          "base_uri": "https://localhost:8080/",
          "height": 264
        },
        "id": "CBh0tIYtoz37",
        "outputId": "4556a96e-15e6-4b1d-85d3-370beae42ad1"
      },
      "outputs": [
        {
          "output_type": "display_data",
          "data": {
            "text/plain": [
              "<Figure size 432x288 with 1 Axes>"
            ],
            "image/png": "[encoded data removed]"
          },
          "metadata": {}
        }
      ],
      "source": [
        "p=np.array([Percentage_five_star_vine,1-Percentage_five_star_vine])\n",
        "labels=[\"5-star rating\",\"Non 5-star rating\"]\n",
        "plt.pie(p,labels=labels,autopct='%1.0f%%')\n",
        "plt.title(\"Records that were part of the Vine program(paid)\")\n",
        "plt.show()"
      ]
    },
    {
      "cell_type": "code",
      "execution_count": null,
      "metadata": {
        "colab": {
          "base_uri": "https://localhost:8080/",
          "height": 264
        },
        "id": "0l_164rCowRp",
        "outputId": "ebe6e59b-dc16-46e7-874a-b51613a2a675"
      },
      "outputs": [
        {
          "output_type": "display_data",
          "data": {
            "text/plain": [
              "<Figure size 432x288 with 1 Axes>"
            ],
            "image/png": "[encoded data removed]"
          },
          "metadata": {}
        }
      ],
      "source": [
        "p=np.array([Percentage_five_star_vine_Unpaid,1-Percentage_five_star_vine_Unpaid])\n",
        "labels=[\"5-star rating\",\"Non 5-star rating\"]\n",
        "plt.pie(p,labels=labels,autopct='%1.0f%%')\n",
        "plt.title(\"Records that were not part of the Vine program(unpaid)\")\n",
        "plt.show()"
      ]
    }
  ],
  "metadata": {
    "colab": {
      "provenance": []
    },
    "kernelspec": {
      "display_name": "Python 3.10.6 64-bit",
      "language": "python",
      "name": "python3"
    },
    "language_info": {
      "codemirror_mode": {
        "name": "ipython",
        "version": 3
      },
      "file_extension": ".py",
      "mimetype": "text/x-python",
      "name": "python",
      "nbconvert_exporter": "python",
      "pygments_lexer": "ipython3",
      "version": "3.10.6"
    },
    "nteract": {
      "version": "0.12.3"
    },
    "vscode": {
      "interpreter": {
        "hash": "916dbcbb3f70747c44a77c7bcd40155683ae19c65e1c03b4aa3499c5328201f1"
      }
    }
  },
  "nbformat": 4,
  "nbformat_minor": 0
}