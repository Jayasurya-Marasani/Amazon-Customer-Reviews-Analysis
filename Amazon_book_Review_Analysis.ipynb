{
  "cells": [
    {
      "cell_type": "code",
      "execution_count": null,
      "metadata": {
        "colab": {
          "base_uri": "https://localhost:8080/"
        },
        "id": "V58rxea0HqSa",
        "outputId": "e41445ee-712a-46ea-8ab0-311b5a1c783c"
      },
      "outputs": [
        {
          "output_type": "stream",
          "name": "stdout",
          "text": [
            "Get:1 https://cloud.r-project.org/bin/linux/ubuntu bionic-cran40/ InRelease [3,626 B]\n",
            "Hit:2 http://archive.ubuntu.com/ubuntu bionic InRelease\n",
            "Ign:3 https://developer.download.nvidia.com/compute/machine-learning/repos/ubuntu1804/x86_64  InRelease\n",
            "Hit:4 https://developer.download.nvidia.com/compute/cuda/repos/ubuntu1804/x86_64  InRelease\n",
            "Hit:5 https://developer.download.nvidia.com/compute/machine-learning/repos/ubuntu1804/x86_64  Release\n",
            "Get:6 http://archive.ubuntu.com/ubuntu bionic-updates InRelease [88.7 kB]\n",
            "Get:7 http://security.ubuntu.com/ubuntu bionic-security InRelease [88.7 kB]\n",
            "Get:8 http://archive.ubuntu.com/ubuntu bionic-backports InRelease [83.3 kB]\n",
            "Get:9 http://ppa.launchpad.net/c2d4u.team/c2d4u4.0+/ubuntu bionic InRelease [15.9 kB]\n",
            "Hit:10 http://ppa.launchpad.net/cran/libgit2/ubuntu bionic InRelease\n",
            "Hit:11 http://ppa.launchpad.net/deadsnakes/ppa/ubuntu bionic InRelease\n",
            "Get:12 http://ppa.launchpad.net/graphics-drivers/ppa/ubuntu bionic InRelease [21.3 kB]\n",
            "Get:14 http://archive.ubuntu.com/ubuntu bionic-updates/main amd64 Packages [3,519 kB]\n",
            "Get:15 http://archive.ubuntu.com/ubuntu bionic-updates/restricted amd64 Packages [1,348 kB]\n",
            "Get:16 http://archive.ubuntu.com/ubuntu bionic-updates/multiverse amd64 Packages [30.0 kB]\n",
            "Get:17 http://ppa.launchpad.net/c2d4u.team/c2d4u4.0+/ubuntu bionic/main Sources [2,226 kB]\n",
            "Get:18 http://security.ubuntu.com/ubuntu bionic-security/multiverse amd64 Packages [22.9 kB]\n",
            "Get:19 http://security.ubuntu.com/ubuntu bionic-security/restricted amd64 Packages [1,307 kB]\n",
            "Get:20 http://ppa.launchpad.net/c2d4u.team/c2d4u4.0+/ubuntu bionic/main amd64 Packages [1,139 kB]\n",
            "Get:21 http://ppa.launchpad.net/graphics-drivers/ppa/ubuntu bionic/main amd64 Packages [40.8 kB]\n",
            "Fetched 9,933 kB in 6s (1,693 kB/s)\n",
            "Reading package lists... Done\n"
          ]
        }
      ],
      "source": [
        "import os\n",
        "spark_version = 'spark-3.0.2'\n",
        "os.environ['spark-3.0.2']=spark_version\n",
        "# Install Spark and Java\n",
        "!apt-get update\n",
        "!apt-get install openjdk-11-jdk-headless -qq > /dev/null\n",
        "!wget -q https://archive.apache.org/dist/spark/spark-3.0.2/spark-3.0.2-bin-hadoop2.7.tgz\n",
        "!tar xf spark-3.0.2-bin-hadoop2.7.tgz\n",
        "!pip install -q findspark\n",
        "# Set Environment Variables\n",
        "import os\n",
        "os.environ[\"JAVA_HOME\"] = \"/usr/lib/jvm/java-11-openjdk-amd64\"\n",
        "os.environ[\"SPARK_HOME\"] = \"/content/spark-3.0.2-bin-hadoop2.7\"\n",
        "# Start a SparkSession\n",
        "import findspark\n",
        "findspark.init()"
      ]
    },
    {
      "cell_type": "code",
      "execution_count": null,
      "metadata": {
        "id": "MMqDAjVS0KN9"
      },
      "outputs": [],
      "source": [
        "from pyspark.sql import SparkSession\n",
        "spark = SparkSession.builder.appName(\"BigData-Challenge\").config(\"spark.driver.extraClassPath\").getOrCreate()"
      ]
    },
    {
      "cell_type": "markdown",
      "metadata": {
        "id": "cyBsySGuY-9V"
      },
      "source": [
        "### Load Amazon Data into Spark DataFrame"
      ]
    },
    {
      "cell_type": "code",
      "execution_count": null,
      "metadata": {
        "colab": {
          "base_uri": "https://localhost:8080/"
        },
        "id": "CtCmBhQJY-9Z",
        "outputId": "13bb474e-fc17-4af3-c68a-458f630c9806"
      },
      "outputs": [
        {
          "output_type": "stream",
          "name": "stdout",
          "text": [
            "+-----------+-----------+--------------+----------+--------------+--------------------+----------------+-----------+-------------+-----------+----+-----------------+--------------------+--------------------+-----------+\n",
            "|marketplace|customer_id|     review_id|product_id|product_parent|       product_title|product_category|star_rating|helpful_votes|total_votes|vine|verified_purchase|     review_headline|         review_body|review_date|\n",
            "+-----------+-----------+--------------+----------+--------------+--------------------+----------------+-----------+-------------+-----------+----+-----------------+--------------------+--------------------+-----------+\n",
            "|         US|   25933450| RJOVP071AVAJO|0439873800|      84656342|There Was an Old ...|           Books|          5|            0|          0|   N|                Y|          Five Stars|I love it and so ...| 2015-08-31|\n",
            "|         US|    1801372|R1ORGBETCDW3AI|1623953553|     729938122|      I Saw a Friend|           Books|          5|            0|          0|   N|                Y|Please buy \"I Saw...|My wife and I ord...| 2015-08-31|\n",
            "|         US|    5782091| R7TNRFQAOUTX5|142151981X|     678139048|Black Lagoon, Vol. 6|           Books|          5|            0|          0|   N|                Y|       Shipped fast.|Great book just l...| 2015-08-31|\n",
            "|         US|   32715830|R2GANXKDIFZ6OI|014241543X|     712432151|           If I Stay|           Books|          5|            0|          0|   N|                N|          Five Stars|        So beautiful| 2015-08-31|\n",
            "|         US|   14005703|R2NYB6C3R8LVN6|1604600527|     800572372|Stars 'N Strips F...|           Books|          5|            2|          2|   N|                Y|          Five Stars|Enjoyed the autho...| 2015-08-31|\n",
            "|         US|   36205738|R13U5PBJI1H94K|0399170863|     559876774|            The Liar|           Books|          2|            1|          1|   N|                N|PREDICTABLE ALMOS...|Two or three page...| 2015-08-31|\n",
            "|         US|   44121167|R1H8UVH990F8VE|1517007240|     299984591|Devil in the Deta...|           Books|          5|            2|          2|   N|                N|The Monastery Mur...|&#34;Secrets in t...| 2015-08-31|\n",
            "|         US|   16519255|R2MC0N30WZMRQ5|0671728725|     821650353|Knowing When to S...|           Books|          5|            0|          0|   N|                Y|          Five Stars|          I love it!| 2015-08-31|\n",
            "|         US|   49361350| R2NO2HXK16Y4J|1111349533|     419457767|The American Pageant|           Books|          5|            0|          0|   N|                Y|          Five Stars|It was a great pu...| 2015-08-31|\n",
            "|         US|   11423253|R245YIAVJK82ZL|812211637X|     285887177|Punjabi C.L. Bibl...|           Books|          5|            0|          0|   N|                Y|          Five Stars|Quality product f...| 2015-08-31|\n",
            "|         US|   37536260| RFBMLBWQOZ1UM|0679413359|      58983679|The Aeneid (Every...|           Books|          5|            0|          0|   N|                Y|          Five Stars|          Very happy| 2015-08-31|\n",
            "|         US|   23614950| RHE1FEWV3KTQH|0983990662|     222024699|The YMCA of Middl...|           Books|          5|            0|          0|   N|                Y|Great history boo...|Love reading all ...| 2015-08-31|\n",
            "|         US|   12641855|R2BB9U7PHO7ETO|156852062X|     388128348|Memoirs By Harry ...|           Books|          5|            0|          1|   N|                Y|          Five Stars|such a great purc...| 2015-08-31|\n",
            "|         US|   36327169|R28XJJP754GYXO|B0007E4WJ4|     842975364|Arms of our fight...|           Books|          4|            0|          0|   N|                Y|          Four Stars|book was fine Tha...| 2015-08-31|\n",
            "|         US|   49735028|R2G519UREHRO8M|0664254969|     248307276|Presbyterian Cree...|           Books|          3|            0|          1|   N|                Y|The Presbyterian ...|The Presbyterian ...| 2015-08-31|\n",
            "|         US|   39348901| RPBKCEIN3UISD|1570913722|       9340721|Hello Ocean/Hola mar|           Books|          5|            0|          0|   N|                Y|          Five Stars|beautiful work an...| 2015-08-31|\n",
            "|         US|    5782091|R2DOB8482VGJ8W|0345313860|     630892090|The Vampire Lesta...|           Books|          5|            0|          0|   N|                Y|       Shipped fast.|This is my favori...| 2015-08-31|\n",
            "|         US|   30063158|R2XKOET5M8W36S|0670025593|     479521754|The Book of Life ...|           Books|          5|            0|          0|   N|                Y|One of my favorites!|Love Deborah Harn...| 2015-08-31|\n",
            "|         US|     125518|R377BCSTZ4D2QP|161893158X|     399670838|Disney Descendant...|           Books|          5|            1|          1|   N|                Y|... has all three...|Now my daughter h...| 2015-08-31|\n",
            "|         US|   22297413|R3A39XZ5SB97MK|007179512X|      47243107|CompTIA A+ Certif...|           Books|          5|            0|          0|   N|                Y|He said it has be...|Bought this book ...| 2015-08-31|\n",
            "+-----------+-----------+--------------+----------+--------------+--------------------+----------------+-----------+-------------+-----------+----+-----------------+--------------------+--------------------+-----------+\n",
            "only showing top 20 rows\n",
            "\n"
          ]
        }
      ],
      "source": [
        "from pyspark import SparkFiles\n",
        "url = \"https://s3.amazonaws.com/amazon-reviews-pds/tsv/amazon_reviews_us_Books_v1_00.tsv.gz\"\n",
        "spark.sparkContext.addFile(url)\n",
        "df = spark.read.option(\"encoding\", \"UTF-8\").csv(SparkFiles.get(\"\"), sep=\"\\t\", header=True, inferSchema=True)\n",
        "df.show()"
      ]
    },
    {
      "cell_type": "code",
      "execution_count": null,
      "metadata": {
        "colab": {
          "base_uri": "https://localhost:8080/"
        },
        "id": "Rg7Qso0mCMWS",
        "outputId": "a1979a18-d4b9-40f0-9968-8ba3cf2eb5a1"
      },
      "outputs": [
        {
          "output_type": "execute_result",
          "data": {
            "text/plain": [
              "StructType(List(StructField(marketplace,StringType,true),StructField(customer_id,IntegerType,true),StructField(review_id,StringType,true),StructField(product_id,StringType,true),StructField(product_parent,IntegerType,true),StructField(product_title,StringType,true),StructField(product_category,StringType,true),StructField(star_rating,StringType,true),StructField(helpful_votes,IntegerType,true),StructField(total_votes,IntegerType,true),StructField(vine,StringType,true),StructField(verified_purchase,StringType,true),StructField(review_headline,StringType,true),StructField(review_body,StringType,true),StructField(review_date,StringType,true)))"
            ]
          },
          "metadata": {},
          "execution_count": 4
        }
      ],
      "source": [
        "#to check the datatypes in the dataframe\n",
        "df.schema"
      ]
    },
    {
      "cell_type": "markdown",
      "metadata": {
        "id": "2yUSe55VY-9t"
      },
      "source": [
        "### Create DataFrames to match tables"
      ]
    },
    {
      "cell_type": "code",
      "execution_count": null,
      "metadata": {
        "colab": {
          "base_uri": "https://localhost:8080/"
        },
        "id": "C8REmY1aY-9u",
        "outputId": "7836d35e-59a4-45da-9425-edf9143bb23d"
      },
      "outputs": [
        {
          "output_type": "stream",
          "name": "stdout",
          "text": [
            "+-----------+-----------+--------------+----------+--------------+--------------------+----------------+-----------+-------------+-----------+----+-----------------+--------------------+--------------------+-----------+\n",
            "|marketplace|customer_id|     review_id|product_id|product_parent|       product_title|product_category|star_rating|helpful_votes|total_votes|vine|verified_purchase|     review_headline|         review_body|review_date|\n",
            "+-----------+-----------+--------------+----------+--------------+--------------------+----------------+-----------+-------------+-----------+----+-----------------+--------------------+--------------------+-----------+\n",
            "|         US|   25933450| RJOVP071AVAJO|0439873800|      84656342|There Was an Old ...|           Books|          5|            0|          0|   N|                Y|          Five Stars|I love it and so ...| 2015-08-31|\n",
            "|         US|    1801372|R1ORGBETCDW3AI|1623953553|     729938122|      I Saw a Friend|           Books|          5|            0|          0|   N|                Y|Please buy \"I Saw...|My wife and I ord...| 2015-08-31|\n",
            "|         US|    5782091| R7TNRFQAOUTX5|142151981X|     678139048|Black Lagoon, Vol. 6|           Books|          5|            0|          0|   N|                Y|       Shipped fast.|Great book just l...| 2015-08-31|\n",
            "|         US|   32715830|R2GANXKDIFZ6OI|014241543X|     712432151|           If I Stay|           Books|          5|            0|          0|   N|                N|          Five Stars|        So beautiful| 2015-08-31|\n",
            "|         US|   14005703|R2NYB6C3R8LVN6|1604600527|     800572372|Stars 'N Strips F...|           Books|          5|            2|          2|   N|                Y|          Five Stars|Enjoyed the autho...| 2015-08-31|\n",
            "|         US|   36205738|R13U5PBJI1H94K|0399170863|     559876774|            The Liar|           Books|          2|            1|          1|   N|                N|PREDICTABLE ALMOS...|Two or three page...| 2015-08-31|\n",
            "|         US|   44121167|R1H8UVH990F8VE|1517007240|     299984591|Devil in the Deta...|           Books|          5|            2|          2|   N|                N|The Monastery Mur...|&#34;Secrets in t...| 2015-08-31|\n",
            "|         US|   16519255|R2MC0N30WZMRQ5|0671728725|     821650353|Knowing When to S...|           Books|          5|            0|          0|   N|                Y|          Five Stars|          I love it!| 2015-08-31|\n",
            "|         US|   49361350| R2NO2HXK16Y4J|1111349533|     419457767|The American Pageant|           Books|          5|            0|          0|   N|                Y|          Five Stars|It was a great pu...| 2015-08-31|\n",
            "|         US|   11423253|R245YIAVJK82ZL|812211637X|     285887177|Punjabi C.L. Bibl...|           Books|          5|            0|          0|   N|                Y|          Five Stars|Quality product f...| 2015-08-31|\n",
            "|         US|   37536260| RFBMLBWQOZ1UM|0679413359|      58983679|The Aeneid (Every...|           Books|          5|            0|          0|   N|                Y|          Five Stars|          Very happy| 2015-08-31|\n",
            "|         US|   23614950| RHE1FEWV3KTQH|0983990662|     222024699|The YMCA of Middl...|           Books|          5|            0|          0|   N|                Y|Great history boo...|Love reading all ...| 2015-08-31|\n",
            "|         US|   12641855|R2BB9U7PHO7ETO|156852062X|     388128348|Memoirs By Harry ...|           Books|          5|            0|          1|   N|                Y|          Five Stars|such a great purc...| 2015-08-31|\n",
            "|         US|   36327169|R28XJJP754GYXO|B0007E4WJ4|     842975364|Arms of our fight...|           Books|          4|            0|          0|   N|                Y|          Four Stars|book was fine Tha...| 2015-08-31|\n",
            "|         US|   49735028|R2G519UREHRO8M|0664254969|     248307276|Presbyterian Cree...|           Books|          3|            0|          1|   N|                Y|The Presbyterian ...|The Presbyterian ...| 2015-08-31|\n",
            "|         US|   39348901| RPBKCEIN3UISD|1570913722|       9340721|Hello Ocean/Hola mar|           Books|          5|            0|          0|   N|                Y|          Five Stars|beautiful work an...| 2015-08-31|\n",
            "|         US|    5782091|R2DOB8482VGJ8W|0345313860|     630892090|The Vampire Lesta...|           Books|          5|            0|          0|   N|                Y|       Shipped fast.|This is my favori...| 2015-08-31|\n",
            "|         US|   30063158|R2XKOET5M8W36S|0670025593|     479521754|The Book of Life ...|           Books|          5|            0|          0|   N|                Y|One of my favorites!|Love Deborah Harn...| 2015-08-31|\n",
            "|         US|     125518|R377BCSTZ4D2QP|161893158X|     399670838|Disney Descendant...|           Books|          5|            1|          1|   N|                Y|... has all three...|Now my daughter h...| 2015-08-31|\n",
            "|         US|   22297413|R3A39XZ5SB97MK|007179512X|      47243107|CompTIA A+ Certif...|           Books|          5|            0|          0|   N|                Y|He said it has be...|Bought this book ...| 2015-08-31|\n",
            "+-----------+-----------+--------------+----------+--------------+--------------------+----------------+-----------+-------------+-----------+----+-----------------+--------------------+--------------------+-----------+\n",
            "only showing top 20 rows\n",
            "\n"
          ]
        }
      ],
      "source": [
        "from pyspark.sql.functions import to_date\n",
        "# Read in the Review dataset as a DataFrame\n",
        "customer_clean_df = df.dropna()\n",
        "customer_clean_df.show()"
      ]
    },
    {
      "cell_type": "code",
      "execution_count": null,
      "metadata": {
        "colab": {
          "base_uri": "https://localhost:8080/"
        },
        "id": "6Sg0fiDva_Df",
        "outputId": "905598e6-811a-4968-d7c7-d262b1d94eaa"
      },
      "outputs": [
        {
          "output_type": "stream",
          "name": "stdout",
          "text": [
            "+-----------+-----------+--------------+----------+--------------+--------------------+----------------+-----------+-------------+-----------+----+-----------------+--------------------+--------------------+-----------+\n",
            "|marketplace|customer_id|     review_id|product_id|product_parent|       product_title|product_category|star_rating|helpful_votes|total_votes|vine|verified_purchase|     review_headline|         review_body|review_date|\n",
            "+-----------+-----------+--------------+----------+--------------+--------------------+----------------+-----------+-------------+-----------+----+-----------------+--------------------+--------------------+-----------+\n",
            "|         US|   41701512|R1001KFG4A6UV0|1618970836|     580076046|     Scarlett Sunset|           Books|          5|            0|          0|   N|                Y|        Great Story!|Scarlett Sunset i...| 2014-12-17|\n",
            "|         US|   43228471|R1005LTI9KRC67|B009D73X32|     997288261|The Dark Monk: A ...|           Books|          5|            1|          1|   N|                Y|Another terrific ...|Another terrific ...| 2013-08-15|\n",
            "|         US|   29808660|R1006AL7O9T1MX|1476739870|      40439449|Control: Exposing...|           Books|          5|            0|          0|   N|                N|    Fact filled book|Loved the read. I...| 2013-06-02|\n",
            "|         US|   11660969|R1008U90DRBVDP|0486456943|     866810948|Mystical Mandala ...|           Books|          5|            0|          0|   N|                Y|          Five Stars|           I love it| 2014-10-17|\n",
            "|         US|   40140202|R1008WXK4MEHGR|1492352756|     907604080|Wild Surrender: a...|           Books|          5|            1|          1|   N|                N|this is so beautiful|Not only is this ...| 2013-10-19|\n",
            "|         US|   51393761|R100A9ZLRTKQSP|0143124870|     474420279|A Tale for the Ti...|           Books|          5|            0|          0|   N|                Y|This is one of th...|This is one of th...| 2015-05-28|\n",
            "|         US|   49153541|R100F5OOAPK4U6|1910167436|      39484510|The Good Psychopa...|           Books|          5|            3|          4|   N|                Y|buy the book, rea...|Nothing simple ab...| 2015-01-05|\n",
            "|         US|   10152191|R100H1AP8QW3K8|061582532X|     400308694|   The Cards We Keep|           Books|          5|            0|          0|   N|                Y|          great read|This is a fantast...| 2013-07-22|\n",
            "|         US|   39945784| R100M5XD0XBZV|0425243117|     559521842|    Wolf at the Door|           Books|          2|            3|          3|   N|                N|No redeeming qual...|In spite of all o...| 2012-09-08|\n",
            "|         US|   43882374|R100N27T1KO2FO|1494912953|     506969645| Ghosts of the Heart|           Books|          5|            0|          0|   N|                N|RIVETING!!!! Leav...|This book is just...| 2014-09-29|\n",
            "+-----------+-----------+--------------+----------+--------------+--------------------+----------------+-----------+-------------+-----------+----+-----------------+--------------------+--------------------+-----------+\n",
            "only showing top 10 rows\n",
            "\n"
          ]
        }
      ],
      "source": [
        "# Drop duplicates\n",
        "customer_clean_1_df = customer_clean_df.drop_duplicates()\n",
        "customer_clean_1_df.show(10)"
      ]
    },
    {
      "cell_type": "code",
      "execution_count": null,
      "metadata": {
        "colab": {
          "base_uri": "https://localhost:8080/"
        },
        "id": "Mn-7HHrSj61H",
        "outputId": "6cb81b14-1a8c-4985-f2a8-551f6f721327"
      },
      "outputs": [
        {
          "output_type": "stream",
          "name": "stdout",
          "text": [
            "+-----------+--------------+\n",
            "|customer_id|customer_count|\n",
            "+-----------+--------------+\n",
            "|   16747249|             4|\n",
            "|     108460|             1|\n",
            "|   11720077|            31|\n",
            "|     437936|             1|\n",
            "|     128131|             1|\n",
            "+-----------+--------------+\n",
            "only showing top 5 rows\n",
            "\n"
          ]
        }
      ],
      "source": [
        "# Create the customers_table DataFrame\n",
        "customers_df = customer_clean_df.groupby(\"customer_id\").agg({\"customer_id\":\"count\"}).withColumnRenamed(\"count(customer_id)\", \"customer_count\")\n",
        "customers_df.show(5)"
      ]
    },
    {
      "cell_type": "code",
      "execution_count": null,
      "metadata": {
        "colab": {
          "base_uri": "https://localhost:8080/"
        },
        "id": "XuZxoZ2qj6-c",
        "outputId": "139b9171-ba87-4e5f-ae23-eeb4a81c6d50"
      },
      "outputs": [
        {
          "output_type": "execute_result",
          "data": {
            "text/plain": [
              "StructType(List(StructField(customer_id,IntegerType,true),StructField(customer_count,LongType,false)))"
            ]
          },
          "metadata": {},
          "execution_count": 8
        }
      ],
      "source": [
        "customers_df.schema"
      ]
    },
    {
      "cell_type": "code",
      "execution_count": null,
      "metadata": {
        "colab": {
          "base_uri": "https://localhost:8080/"
        },
        "id": "m9L1w7qLj7BF",
        "outputId": "98486e98-6ade-4de1-ebfd-963fba84b3ef"
      },
      "outputs": [
        {
          "output_type": "stream",
          "name": "stdout",
          "text": [
            "+----------+--------------------+\n",
            "|product_id|       product_title|\n",
            "+----------+--------------------+\n",
            "|014241543X|           If I Stay|\n",
            "|0062091158|     King (Prophecy)|\n",
            "|1250056608|Rough Justice: Si...|\n",
            "|0340909129|Do It Tomorrow an...|\n",
            "|1937013200|Savage Worlds Del...|\n",
            "|019513172X|Nothing but Chris...|\n",
            "|0736432841|Anna & Elsa #1: A...|\n",
            "|1940484138|Common Core Asses...|\n",
            "|0307476073|Wild: From Lost t...|\n",
            "|1416299025|Outlander 2016 Bo...|\n",
            "|1743214022|Lonely Planet Cro...|\n",
            "|B001IF2MG6|Calligraphy the K...|\n",
            "|B00UZGLL02|Mermaid Juniors' ...|\n",
            "|0060192674|Everything You Al...|\n",
            "|1423422198|Swing Favorites -...|\n",
            "|1572840994|Gluten-Free Bakin...|\n",
            "|8888166122|Italia in Cucina:...|\n",
            "|0803740123|             Tracked|\n",
            "|0062433652|Go Set a Watchman...|\n",
            "|0590043749|State-by-State Gu...|\n",
            "+----------+--------------------+\n",
            "only showing top 20 rows\n",
            "\n"
          ]
        }
      ],
      "source": [
        "# Create the products_table DataFrame and drop duplicates.\n",
        "#df.filter(\"price<20\").select(\"points\",\"country\",\"price\").show(5)\n",
        "products_df = customer_clean_df.select([\"product_id\",\"product_title\"]).drop_duplicates()\n",
        "products_df.show(20)"
      ]
    },
    {
      "cell_type": "code",
      "execution_count": null,
      "metadata": {
        "colab": {
          "base_uri": "https://localhost:8080/"
        },
        "id": "oA_XCJVrkXj7",
        "outputId": "cd2d5d42-6c60-4a5e-ff9e-2183dd889646"
      },
      "outputs": [
        {
          "output_type": "execute_result",
          "data": {
            "text/plain": [
              "StructType(List(StructField(product_id,StringType,true),StructField(product_title,StringType,true)))"
            ]
          },
          "metadata": {},
          "execution_count": 10
        }
      ],
      "source": [
        "products_df.schema"
      ]
    },
    {
      "cell_type": "code",
      "execution_count": null,
      "metadata": {
        "colab": {
          "base_uri": "https://localhost:8080/"
        },
        "id": "mU7gVppjkb9O",
        "outputId": "61cb767d-cc97-444b-c3fd-35fbee4b6541"
      },
      "outputs": [
        {
          "output_type": "stream",
          "name": "stdout",
          "text": [
            "+--------------+-----------+----------+--------------+-----------+\n",
            "|     review_id|customer_id|product_id|product_parent|review_date|\n",
            "+--------------+-----------+----------+--------------+-----------+\n",
            "| RJOVP071AVAJO|   25933450|0439873800|      84656342| 2015-08-31|\n",
            "|R1ORGBETCDW3AI|    1801372|1623953553|     729938122| 2015-08-31|\n",
            "| R7TNRFQAOUTX5|    5782091|142151981X|     678139048| 2015-08-31|\n",
            "|R2GANXKDIFZ6OI|   32715830|014241543X|     712432151| 2015-08-31|\n",
            "|R2NYB6C3R8LVN6|   14005703|1604600527|     800572372| 2015-08-31|\n",
            "|R13U5PBJI1H94K|   36205738|0399170863|     559876774| 2015-08-31|\n",
            "|R1H8UVH990F8VE|   44121167|1517007240|     299984591| 2015-08-31|\n",
            "|R2MC0N30WZMRQ5|   16519255|0671728725|     821650353| 2015-08-31|\n",
            "| R2NO2HXK16Y4J|   49361350|1111349533|     419457767| 2015-08-31|\n",
            "|R245YIAVJK82ZL|   11423253|812211637X|     285887177| 2015-08-31|\n",
            "+--------------+-----------+----------+--------------+-----------+\n",
            "only showing top 10 rows\n",
            "\n"
          ]
        }
      ],
      "source": [
        "# Create the review_id_table DataFrame.\n",
        "# Convert the 'review_date' column to a date datatype with to_date(\"review_date\", 'yyyy-MM-dd').alias(\"review_date\")\n",
        "review_id_df = customer_clean_df.select([\"review_id\",\"customer_id\",\"product_id\",\"product_parent\",to_date(\"review_date\", 'yyyy-MM-dd').alias(\"review_date\")])\n",
        "review_id_df.show(10)"
      ]
    },
    {
      "cell_type": "code",
      "execution_count": null,
      "metadata": {
        "colab": {
          "base_uri": "https://localhost:8080/"
        },
        "id": "nmU6kMSDkb_7",
        "outputId": "9773ebc3-ed69-4c9e-9eb5-382a5d5b2eb7"
      },
      "outputs": [
        {
          "output_type": "execute_result",
          "data": {
            "text/plain": [
              "StructType(List(StructField(review_id,StringType,true),StructField(customer_id,IntegerType,true),StructField(product_id,StringType,true),StructField(product_parent,IntegerType,true),StructField(review_date,DateType,true)))"
            ]
          },
          "metadata": {},
          "execution_count": 12
        }
      ],
      "source": [
        "review_id_df.schema"
      ]
    },
    {
      "cell_type": "code",
      "execution_count": null,
      "metadata": {
        "colab": {
          "base_uri": "https://localhost:8080/"
        },
        "id": "lzMmkdKmY--D",
        "outputId": "4a2bfe17-88d0-45c4-d562-958561b7c35d"
      },
      "outputs": [
        {
          "output_type": "stream",
          "name": "stdout",
          "text": [
            "+--------------+-----------+-------------+-----------+----+-----------------+\n",
            "|     review_id|star_rating|helpful_votes|total_votes|vine|verified_purchase|\n",
            "+--------------+-----------+-------------+-----------+----+-----------------+\n",
            "|R1001KFG4A6UV0|          5|            0|          0|   N|                Y|\n",
            "|R1005LTI9KRC67|          5|            1|          1|   N|                Y|\n",
            "|R1006AL7O9T1MX|          5|            0|          0|   N|                N|\n",
            "|R1008U90DRBVDP|          5|            0|          0|   N|                Y|\n",
            "|R1008WXK4MEHGR|          5|            1|          1|   N|                N|\n",
            "|R100A9ZLRTKQSP|          5|            0|          0|   N|                Y|\n",
            "|R100F5OOAPK4U6|          5|            3|          4|   N|                Y|\n",
            "|R100H1AP8QW3K8|          5|            0|          0|   N|                Y|\n",
            "| R100M5XD0XBZV|          2|            3|          3|   N|                N|\n",
            "|R100N27T1KO2FO|          5|            0|          0|   N|                N|\n",
            "|R100WGEPVYY4DG|          4|            0|          0|   N|                Y|\n",
            "|R100XNG7EPFULC|          5|            0|          0|   N|                Y|\n",
            "|R100XU1WQA0J4N|          5|            0|          1|   N|                Y|\n",
            "|R101CZPWUU33IP|          4|            0|          0|   N|                N|\n",
            "|R101H8TVGSQ2VZ|          3|            0|          0|   N|                Y|\n",
            "|R101IRK5MIL9J6|          5|            2|          2|   N|                Y|\n",
            "|R101LA32AFGSPY|          5|            0|          0|   N|                Y|\n",
            "|R101MBAR8T9UBN|          5|            0|          0|   N|                Y|\n",
            "|R101QVDCOZ2VKX|          5|            1|          1|   N|                Y|\n",
            "|R101RSRZJ1GSB7|          5|            0|          1|   N|                Y|\n",
            "+--------------+-----------+-------------+-----------+----+-----------------+\n",
            "only showing top 20 rows\n",
            "\n"
          ]
        }
      ],
      "source": [
        "# Create the vine_table. DataFrame\n",
        "vine_df = customer_clean_1_df.select([\"review_id\",\"star_rating\",\"helpful_votes\",\"total_votes\",\"vine\",\"verified_purchase\"])\n",
        "vine_df.show(20)"
      ]
    },
    {
      "cell_type": "code",
      "execution_count": null,
      "metadata": {
        "colab": {
          "base_uri": "https://localhost:8080/"
        },
        "id": "PyIl4h3dfRDp",
        "outputId": "a59952c8-744b-4d24-ca7e-0b0c4c4f587f"
      },
      "outputs": [
        {
          "output_type": "execute_result",
          "data": {
            "text/plain": [
              "StructType(List(StructField(review_id,StringType,true),StructField(star_rating,StringType,true),StructField(helpful_votes,IntegerType,true),StructField(total_votes,IntegerType,true),StructField(vine,StringType,true),StructField(verified_purchase,StringType,true)))"
            ]
          },
          "metadata": {},
          "execution_count": 14
        }
      ],
      "source": [
        "vine_df.schema"
      ]
    },
    {
      "cell_type": "code",
      "execution_count": null,
      "metadata": {
        "colab": {
          "base_uri": "https://localhost:8080/"
        },
        "id": "hNr-qlIngblf",
        "outputId": "d4117973-6924-41ec-865a-99bef636d5b0"
      },
      "outputs": [
        {
          "output_type": "stream",
          "name": "stdout",
          "text": [
            "+--------------+-----------+-------------+-----------+----+-----------------+\n",
            "|     review_id|star_rating|helpful_votes|total_votes|vine|verified_purchase|\n",
            "+--------------+-----------+-------------+-----------+----+-----------------+\n",
            "|R1001KFG4A6UV0|          5|            0|          0|   N|                Y|\n",
            "|R1005LTI9KRC67|          5|            1|          1|   N|                Y|\n",
            "|R1006AL7O9T1MX|          5|            0|          0|   N|                N|\n",
            "|R1008U90DRBVDP|          5|            0|          0|   N|                Y|\n",
            "|R1008WXK4MEHGR|          5|            1|          1|   N|                N|\n",
            "|R100A9ZLRTKQSP|          5|            0|          0|   N|                Y|\n",
            "|R100F5OOAPK4U6|          5|            3|          4|   N|                Y|\n",
            "|R100H1AP8QW3K8|          5|            0|          0|   N|                Y|\n",
            "| R100M5XD0XBZV|          2|            3|          3|   N|                N|\n",
            "|R100N27T1KO2FO|          5|            0|          0|   N|                N|\n",
            "+--------------+-----------+-------------+-----------+----+-----------------+\n",
            "only showing top 10 rows\n",
            "\n"
          ]
        }
      ],
      "source": [
        "#we need to convert the \"star_rating\" datatype into integer , since we have defined it as an integer in the \"vine_table\" we created in pgAdmin.\n",
        "#review_id_df = customer_clean_df.select([\"review_id\",\"customer_id\",\"product_id\",\"product_parent\",to_date(\"review_date\", 'yyyy-MM-dd').alias(\"review_date\")])\n",
        "#data_df = data_df.withColumn(\"Plays\", data_df[\"Plays\"].cast(IntegerType()))\n",
        "#customers_df = customers_df.withColumn(\"customer_count\",col(\"customer_count\").cast(\"int\"))\n",
        "vine1_df = vine_df.select([\"review_id\",vine_df[\"star_rating\"].cast(\"int\").alias(\"star_rating\"),\"helpful_votes\",\"total_votes\",\"vine\",\"verified_purchase\"])\n",
        "vine1_df .show(10)"
      ]
    },
    {
      "cell_type": "code",
      "execution_count": null,
      "metadata": {
        "colab": {
          "base_uri": "https://localhost:8080/"
        },
        "id": "j4Z_3le8oYEv",
        "outputId": "e6a96d77-060b-4c81-95d7-5c05921c1a8b"
      },
      "outputs": [
        {
          "output_type": "execute_result",
          "data": {
            "text/plain": [
              "StructType(List(StructField(review_id,StringType,true),StructField(star_rating,IntegerType,true),StructField(helpful_votes,IntegerType,true),StructField(total_votes,IntegerType,true),StructField(vine,StringType,true),StructField(verified_purchase,StringType,true)))"
            ]
          },
          "metadata": {},
          "execution_count": 16
        }
      ],
      "source": [
        "vine1_df.schema"
      ]
    },
    {
      "cell_type": "markdown",
      "metadata": {
        "id": "jITZhLkmY--J"
      },
      "source": [
        "### Analysing the vine data"
      ]
    },
    {
      "cell_type": "code",
      "execution_count": null,
      "metadata": {
        "colab": {
          "base_uri": "https://localhost:8080/"
        },
        "id": "Exuo6ebUsCqW",
        "outputId": "bbd4eec9-6068-4019-fb6d-c19de8766eb8"
      },
      "outputs": [
        {
          "output_type": "stream",
          "name": "stdout",
          "text": [
            "+--------------+-----------+-------------+-----------+----+-----------------+\n",
            "|     review_id|star_rating|helpful_votes|total_votes|vine|verified_purchase|\n",
            "+--------------+-----------+-------------+-----------+----+-----------------+\n",
            "|  RYLGTBACAM4P|          5|           13|         46|   N|                Y|\n",
            "| R320PYYJYDUR3|          1|           19|         47|   N|                N|\n",
            "|R21K7CN57EIC1Y|          1|           13|         26|   N|                N|\n",
            "|R3DMC8PVA5NPK5|          5|           32|         35|   N|                N|\n",
            "| RMRD5FSVM8SIG|          2|           20|         20|   Y|                N|\n",
            "|R24OHQZCV3MQUQ|          5|           14|         21|   N|                Y|\n",
            "|R2FKRYE5N8G6LA|          4|           16|         24|   N|                Y|\n",
            "| R1L568SMUUWKQ|          5|           23|         24|   N|                Y|\n",
            "|R25MUH6154MCXD|          5|           45|         47|   N|                Y|\n",
            "|R1L492CLY8QDZM|          1|           48|        143|   N|                N|\n",
            "+--------------+-----------+-------------+-----------+----+-----------------+\n",
            "only showing top 10 rows\n",
            "\n"
          ]
        }
      ],
      "source": [
        "# 1.Filter the Vine DataFrame by those that had 20+ total votes\n",
        "df1 = vine1_df.filter(vine1_df[\"total_votes\"] >= 20)\n",
        "df1.show(10)"
      ]
    },
    {
      "cell_type": "code",
      "execution_count": null,
      "metadata": {
        "colab": {
          "base_uri": "https://localhost:8080/"
        },
        "id": "MFqR0WwonulM",
        "outputId": "101be438-c5cf-42e6-9770-5d10dc7de719"
      },
      "outputs": [
        {
          "output_type": "stream",
          "name": "stdout",
          "text": [
            "+--------------+-----------+-------------+-----------+----+-----------------+\n",
            "|     review_id|star_rating|helpful_votes|total_votes|vine|verified_purchase|\n",
            "+--------------+-----------+-------------+-----------+----+-----------------+\n",
            "|R21K7CN57EIC1Y|          1|           13|         26|   N|                N|\n",
            "|R3DMC8PVA5NPK5|          5|           32|         35|   N|                N|\n",
            "| RMRD5FSVM8SIG|          2|           20|         20|   Y|                N|\n",
            "|R24OHQZCV3MQUQ|          5|           14|         21|   N|                Y|\n",
            "|R2FKRYE5N8G6LA|          4|           16|         24|   N|                Y|\n",
            "| R1L568SMUUWKQ|          5|           23|         24|   N|                Y|\n",
            "|R25MUH6154MCXD|          5|           45|         47|   N|                Y|\n",
            "|R2JL4JAP9ZSVDV|          1|           17|         31|   N|                Y|\n",
            "|R2122Q6LQD8LQ4|          5|           63|         74|   N|                N|\n",
            "|R3VR6GHEPDNVCF|          5|           19|         21|   N|                Y|\n",
            "+--------------+-----------+-------------+-----------+----+-----------------+\n",
            "only showing top 10 rows\n",
            "\n"
          ]
        }
      ],
      "source": [
        "#2.retrieve all the rows where the number of helpful_votes divided by total_votes is equal to or greater than 50%.\n",
        "df2 = df1.filter(df1[\"helpful_votes\"]/df1[\"total_votes\"] >= 0.5)\n",
        "df2.show(10)"
      ]
    },
    {
      "cell_type": "code",
      "execution_count": null,
      "metadata": {
        "colab": {
          "base_uri": "https://localhost:8080/"
        },
        "id": "L3U6Niedoj8Z",
        "outputId": "c1176b6e-a802-45d0-a011-8d557fe1c1e8"
      },
      "outputs": [
        {
          "output_type": "stream",
          "name": "stdout",
          "text": [
            "+--------------+-----------+-------------+-----------+----+-----------------+\n",
            "|     review_id|star_rating|helpful_votes|total_votes|vine|verified_purchase|\n",
            "+--------------+-----------+-------------+-----------+----+-----------------+\n",
            "| RMRD5FSVM8SIG|          2|           20|         20|   Y|                N|\n",
            "|R1JJ3SRX1EMZQE|          4|           44|         47|   Y|                N|\n",
            "|R1BVLYIH1OO44M|          2|           16|         23|   Y|                N|\n",
            "|R20VMMF5PNMIVD|          5|           58|         67|   Y|                N|\n",
            "|R3RY7MYN2ZFAK6|          5|          253|        263|   Y|                N|\n",
            "| R7WPSL4G4YYAK|          3|           76|         77|   Y|                N|\n",
            "| RFVHF1Q5NWCM9|          3|           22|         28|   Y|                N|\n",
            "|R3KFDZ71JD5HFA|          4|           20|         27|   Y|                N|\n",
            "| RZNU1VPLM89GK|          2|          133|        148|   Y|                N|\n",
            "|R35NTQNBBQPJ7R|          5|           44|         53|   Y|                N|\n",
            "+--------------+-----------+-------------+-----------+----+-----------------+\n",
            "only showing top 10 rows\n",
            "\n"
          ]
        }
      ],
      "source": [
        "#3.Create a new DataFrame or table that retrieves all the rows where a review was written as part of the Vine program (paid), vine == 'Y'.\n",
        "vine_yes3_df = df2.filter(df2[\"vine\"] == \"Y\")\n",
        "vine_yes3_df.show(10)"
      ]
    },
    {
      "cell_type": "code",
      "execution_count": null,
      "metadata": {
        "colab": {
          "base_uri": "https://localhost:8080/"
        },
        "id": "_t59bjl6pegI",
        "outputId": "b58aa259-354c-4c56-9004-18256a5e1581"
      },
      "outputs": [
        {
          "output_type": "stream",
          "name": "stdout",
          "text": [
            "+--------------+-----------+-------------+-----------+----+-----------------+\n",
            "|     review_id|star_rating|helpful_votes|total_votes|vine|verified_purchase|\n",
            "+--------------+-----------+-------------+-----------+----+-----------------+\n",
            "|R21K7CN57EIC1Y|          1|           13|         26|   N|                N|\n",
            "|R3DMC8PVA5NPK5|          5|           32|         35|   N|                N|\n",
            "|R24OHQZCV3MQUQ|          5|           14|         21|   N|                Y|\n",
            "|R2FKRYE5N8G6LA|          4|           16|         24|   N|                Y|\n",
            "| R1L568SMUUWKQ|          5|           23|         24|   N|                Y|\n",
            "|R25MUH6154MCXD|          5|           45|         47|   N|                Y|\n",
            "|R2JL4JAP9ZSVDV|          1|           17|         31|   N|                Y|\n",
            "|R2122Q6LQD8LQ4|          5|           63|         74|   N|                N|\n",
            "|R3VR6GHEPDNVCF|          5|           19|         21|   N|                Y|\n",
            "|R1PJAZCHYEX9C6|          3|           22|         24|   N|                Y|\n",
            "+--------------+-----------+-------------+-----------+----+-----------------+\n",
            "only showing top 10 rows\n",
            "\n"
          ]
        }
      ],
      "source": [
        "#4.Create a new DataFrame and retrieve all the rows where the review was not part of the Vine program (unpaid), vine == 'N'.\n",
        "vine_No4_df = df2.filter(df2[\"vine\"] == \"N\")\n",
        "vine_No4_df.show(10)\n"
      ]
    },
    {
      "cell_type": "code",
      "execution_count": null,
      "metadata": {
        "colab": {
          "base_uri": "https://localhost:8080/"
        },
        "id": "QsiO3ZWtsnVe",
        "outputId": "b8f204fa-76a1-40a7-fd5c-24cf82464fe9"
      },
      "outputs": [
        {
          "output_type": "execute_result",
          "data": {
            "text/plain": [
              "StructType(List(StructField(review_id,StringType,true),StructField(star_rating,IntegerType,true),StructField(helpful_votes,IntegerType,true),StructField(total_votes,IntegerType,true),StructField(vine,StringType,true),StructField(verified_purchase,StringType,true)))"
            ]
          },
          "metadata": {},
          "execution_count": 21
        }
      ],
      "source": [
        "vine_yes3_df.schema"
      ]
    },
    {
      "cell_type": "code",
      "execution_count": null,
      "metadata": {
        "colab": {
          "base_uri": "https://localhost:8080/"
        },
        "id": "OR5CbNaIq6Io",
        "outputId": "9ab652c6-b68e-470d-d510-5bc21100a488"
      },
      "outputs": [
        {
          "output_type": "stream",
          "name": "stdout",
          "text": [
            "Total_paid_number:\n",
            "5009\n",
            "Paid_five_star_number:\n",
            "2030\n",
            "Percentage_five_star_vine:\n",
            "0.4052705130764624\n"
          ]
        }
      ],
      "source": [
        "#5a.The number of 5-star reviews, and the percentage of 5-star reviews for the paid review vine == Y\n",
        "Paid_five_star_number = vine_yes3_df[vine_yes3_df['star_rating']== 5].count()\n",
        "Total_paid_number = vine_yes3_df.count()\n",
        "Percentage_five_star_vine = float(Paid_five_star_number) / float(Total_paid_number)\n",
        "print (\"Total_paid_number:\")\n",
        "print(Total_paid_number)\n",
        "print (\"Paid_five_star_number:\")\n",
        "print(Paid_five_star_number)\n",
        "print (\"Percentage_five_star_vine:\")\n",
        "print(Percentage_five_star_vine)"
      ]
    },
    {
      "cell_type": "code",
      "execution_count": null,
      "metadata": {
        "colab": {
          "base_uri": "https://localhost:8080/"
        },
        "id": "LmEqqAgCxjEx",
        "outputId": "9b0444dc-42c0-4f9c-fcfe-a22c8eddf8a0"
      },
      "outputs": [
        {
          "output_type": "execute_result",
          "data": {
            "text/plain": [
              "StructType(List(StructField(review_id,StringType,true),StructField(star_rating,IntegerType,true),StructField(helpful_votes,IntegerType,true),StructField(total_votes,IntegerType,true),StructField(vine,StringType,true),StructField(verified_purchase,StringType,true)))"
            ]
          },
          "metadata": {},
          "execution_count": 23
        }
      ],
      "source": [
        "vine_No4_df.schema"
      ]
    },
    {
      "cell_type": "code",
      "execution_count": null,
      "metadata": {
        "colab": {
          "base_uri": "https://localhost:8080/"
        },
        "id": "tFneYWZwxv8s",
        "outputId": "3c3838fc-6b2e-4c4c-e7b6-308725159ea3"
      },
      "outputs": [
        {
          "output_type": "stream",
          "name": "stdout",
          "text": [
            "Total_Unpaid_number:\n",
            "109244\n",
            "Unpaid_five_star_number:\n",
            "49947\n",
            "Percentage_five_star_vine_Unpaid:\n",
            "0.45720588773754167\n"
          ]
        }
      ],
      "source": [
        "#5b.The number of 5-star reviews, and the percentage of 5-star reviews for the unpaid review vine == N\n",
        "Unpaid_five_star_number = vine_No4_df[vine_No4_df['star_rating']== 5].count()\n",
        "Total_Unpaid_number = vine_No4_df.count()\n",
        "Percentage_five_star_vine_Unpaid = float(Unpaid_five_star_number) / float(Total_Unpaid_number)\n",
        "print (\"Total_Unpaid_number:\")\n",
        "print(Total_Unpaid_number)\n",
        "print (\"Unpaid_five_star_number:\")\n",
        "print(Unpaid_five_star_number)\n",
        "print (\"Percentage_five_star_vine_Unpaid:\")\n",
        "print(Percentage_five_star_vine_Unpaid)"
      ]
    },
    {
      "cell_type": "code",
      "execution_count": null,
      "metadata": {
        "id": "JOL8WqYGjnxG"
      },
      "outputs": [],
      "source": [
        "import matplotlib.pyplot as plt,numpy as np"
      ]
    },
    {
      "cell_type": "code",
      "execution_count": null,
      "metadata": {
        "colab": {
          "base_uri": "https://localhost:8080/",
          "height": 264
        },
        "id": "CBh0tIYtoz37",
        "outputId": "5c8917f3-8a7b-4582-df02-36453d1cb5f2"
      },
      "outputs": [
        {
          "output_type": "display_data",
          "data": {
            "text/plain": [
              "<Figure size 432x288 with 1 Axes>"
            ],
            "image/png": "[encoded data removed]"
          },
          "metadata": {}
        }
      ],
      "source": [
        "p=np.array([Percentage_five_star_vine,1-Percentage_five_star_vine])\n",
        "labels=[\"5-star rating\",\"Non 5-star rating\"]\n",
        "plt.pie(p,labels=labels,autopct='%1.0f%%')\n",
        "plt.title(\"Records that were part of the Vine program(paid)\")\n",
        "plt.show()"
      ]
    },
    {
      "cell_type": "code",
      "execution_count": null,
      "metadata": {
        "colab": {
          "base_uri": "https://localhost:8080/",
          "height": 264
        },
        "id": "0l_164rCowRp",
        "outputId": "77b7b679-9f23-4827-e66d-1a421d166d07"
      },
      "outputs": [
        {
          "output_type": "display_data",
          "data": {
            "text/plain": [
              "<Figure size 432x288 with 1 Axes>"
            ],
            "image/png": "[encoded data removed]"
          },
          "metadata": {}
        }
      ],
      "source": [
        "p=np.array([Percentage_five_star_vine_Unpaid,1-Percentage_five_star_vine_Unpaid])\n",
        "labels=[\"5-star rating\",\"Non 5-star rating\"]\n",
        "plt.pie(p,labels=labels,autopct='%1.0f%%')\n",
        "plt.title(\"Records that were not part of the Vine program(unpaid)\")\n",
        "plt.show()"
      ]
    },
    {
      "cell_type": "code",
      "source": [],
      "metadata": {
        "id": "D3u04JmmRqO0"
      },
      "execution_count": null,
      "outputs": []
    }
  ],
  "metadata": {
    "colab": {
      "provenance": []
    },
    "kernelspec": {
      "display_name": "Python 3.10.6 64-bit",
      "language": "python",
      "name": "python3"
    },
    "language_info": {
      "codemirror_mode": {
        "name": "ipython",
        "version": 3
      },
      "file_extension": ".py",
      "mimetype": "text/x-python",
      "name": "python",
      "nbconvert_exporter": "python",
      "pygments_lexer": "ipython3",
      "version": "3.10.6"
    },
    "nteract": {
      "version": "0.12.3"
    },
    "vscode": {
      "interpreter": {
        "hash": "e480c6674d5508fc8d9591b96da2b4549be3a1df6840d924f135492fd8e36576"
      }
    }
  },
  "nbformat": 4,
  "nbformat_minor": 0
}