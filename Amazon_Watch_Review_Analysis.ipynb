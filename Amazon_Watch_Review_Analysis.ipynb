{
  "cells": [
    {
      "cell_type": "code",
      "execution_count": null,
      "metadata": {
        "colab": {
          "base_uri": "https://localhost:8080/"
        },
        "id": "V58rxea0HqSa",
        "outputId": "2cb0cb4f-fad2-41fc-ead4-e47a08e33505"
      },
      "outputs": [
        {
          "output_type": "stream",
          "name": "stdout",
          "text": [
            "Get:1 https://cloud.r-project.org/bin/linux/ubuntu bionic-cran40/ InRelease [3,626 B]\n",
            "Get:2 http://ppa.launchpad.net/c2d4u.team/c2d4u4.0+/ubuntu bionic InRelease [15.9 kB]\n",
            "Get:3 http://security.ubuntu.com/ubuntu bionic-security InRelease [88.7 kB]\n",
            "Hit:4 http://archive.ubuntu.com/ubuntu bionic InRelease\n",
            "Ign:5 https://developer.download.nvidia.com/compute/machine-learning/repos/ubuntu1804/x86_64  InRelease\n",
            "Get:6 http://archive.ubuntu.com/ubuntu bionic-updates InRelease [88.7 kB]\n",
            "Hit:7 https://developer.download.nvidia.com/compute/cuda/repos/ubuntu1804/x86_64  InRelease\n",
            "Hit:8 https://developer.download.nvidia.com/compute/machine-learning/repos/ubuntu1804/x86_64  Release\n",
            "Hit:9 http://ppa.launchpad.net/cran/libgit2/ubuntu bionic InRelease\n",
            "Get:10 http://archive.ubuntu.com/ubuntu bionic-backports InRelease [83.3 kB]\n",
            "Hit:11 http://ppa.launchpad.net/deadsnakes/ppa/ubuntu bionic InRelease\n",
            "Get:13 http://ppa.launchpad.net/graphics-drivers/ppa/ubuntu bionic InRelease [21.3 kB]\n",
            "Get:14 http://security.ubuntu.com/ubuntu bionic-security/restricted amd64 Packages [1,307 kB]\n",
            "Get:15 http://ppa.launchpad.net/c2d4u.team/c2d4u4.0+/ubuntu bionic/main Sources [2,227 kB]\n",
            "Get:16 http://archive.ubuntu.com/ubuntu bionic-updates/restricted amd64 Packages [1,348 kB]\n",
            "Get:17 http://security.ubuntu.com/ubuntu bionic-security/multiverse amd64 Packages [22.9 kB]\n",
            "Get:18 http://archive.ubuntu.com/ubuntu bionic-updates/multiverse amd64 Packages [30.0 kB]\n",
            "Get:19 http://archive.ubuntu.com/ubuntu bionic-updates/main amd64 Packages [3,519 kB]\n",
            "Get:20 http://ppa.launchpad.net/c2d4u.team/c2d4u4.0+/ubuntu bionic/main amd64 Packages [1,139 kB]\n",
            "Get:21 http://ppa.launchpad.net/graphics-drivers/ppa/ubuntu bionic/main amd64 Packages [40.8 kB]\n",
            "Fetched 9,935 kB in 8s (1,300 kB/s)\n",
            "Reading package lists... Done\n"
          ]
        }
      ],
      "source": [
        "import os\n",
        "spark_version = 'spark-3.0.2'\n",
        "os.environ['spark-3.0.2']=spark_version\n",
        "# Install Spark and Java\n",
        "!apt-get update\n",
        "!apt-get install openjdk-11-jdk-headless -qq > /dev/null\n",
        "!wget -q https://archive.apache.org/dist/spark/spark-3.0.2/spark-3.0.2-bin-hadoop2.7.tgz\n",
        "!tar xf spark-3.0.2-bin-hadoop2.7.tgz\n",
        "!pip install -q findspark\n",
        "# Set Environment Variables\n",
        "import os\n",
        "os.environ[\"JAVA_HOME\"] = \"/usr/lib/jvm/java-11-openjdk-amd64\"\n",
        "os.environ[\"SPARK_HOME\"] = \"/content/spark-3.0.2-bin-hadoop2.7\"\n",
        "# Start a SparkSession\n",
        "import findspark\n",
        "findspark.init()"
      ]
    },
    {
      "cell_type": "code",
      "execution_count": null,
      "metadata": {
        "id": "MMqDAjVS0KN9"
      },
      "outputs": [],
      "source": [
        "from pyspark.sql import SparkSession\n",
        "spark = SparkSession.builder.appName(\"BigData-Challenge\").config(\"spark.driver.extraClassPath\").getOrCreate()"
      ]
    },
    {
      "cell_type": "markdown",
      "metadata": {
        "id": "cyBsySGuY-9V"
      },
      "source": [
        "### Load Amazon Data into Spark DataFrame"
      ]
    },
    {
      "cell_type": "code",
      "execution_count": null,
      "metadata": {
        "colab": {
          "base_uri": "https://localhost:8080/"
        },
        "id": "CtCmBhQJY-9Z",
        "outputId": "a3b8f2cc-65d2-4622-929f-e53ad6796b0c"
      },
      "outputs": [
        {
          "output_type": "stream",
          "name": "stdout",
          "text": [
            "+-----------+-----------+--------------+----------+--------------+--------------------+----------------+-----------+-------------+-----------+----+-----------------+--------------------+--------------------+-----------+\n",
            "|marketplace|customer_id|     review_id|product_id|product_parent|       product_title|product_category|star_rating|helpful_votes|total_votes|vine|verified_purchase|     review_headline|         review_body|review_date|\n",
            "+-----------+-----------+--------------+----------+--------------+--------------------+----------------+-----------+-------------+-----------+----+-----------------+--------------------+--------------------+-----------+\n",
            "|         US|    3653882|R3O9SGZBVQBV76|B00FALQ1ZC|     937001370|Invicta Women's 1...|         Watches|          5|            0|          0|   N|                Y|          Five Stars|Absolutely love t...| 2015-08-31|\n",
            "|         US|   14661224| RKH8BNC3L5DLF|B00D3RGO20|     484010722|Kenneth Cole New ...|         Watches|          5|            0|          0|   N|                Y|I love thiswatch ...|I love this watch...| 2015-08-31|\n",
            "|         US|   27324930|R2HLE8WKZSU3NL|B00DKYC7TK|     361166390|Ritche 22mm Black...|         Watches|          2|            1|          1|   N|                Y|           Two Stars|           Scratches| 2015-08-31|\n",
            "|         US|    7211452|R31U3UH5AZ42LL|B000EQS1JW|     958035625|Citizen Men's BM8...|         Watches|          5|            0|          0|   N|                Y|          Five Stars|It works well on ...| 2015-08-31|\n",
            "|         US|   12733322|R2SV659OUJ945Y|B00A6GFD7S|     765328221|Orient ER27009B M...|         Watches|          4|            0|          0|   N|                Y|Beautiful face, b...|Beautiful watch f...| 2015-08-31|\n",
            "|         US|    6576411| RA51CP8TR5A2L|B00EYSOSE8|     230493695|Casio Men's GW-94...|         Watches|          5|            0|          0|   N|                Y|       No complaints|i love this watch...| 2015-08-31|\n",
            "|         US|   11811565| RB2Q7DLDN6TH6|B00WM0QA3M|     549298279|Fossil Women's ES...|         Watches|          5|            1|          1|   N|                Y|          Five Stars|for my wife and s...| 2015-08-31|\n",
            "|         US|   49401598|R2RHFJV0UYBK3Y|B00A4EYBR0|     844009113|INFANTRY Mens Nig...|         Watches|          1|            1|          5|   N|                N|I was about to bu...|I was about to bu...| 2015-08-31|\n",
            "|         US|   45925069|R2Z6JOQ94LFHEP|B00MAMPGGE|     263720892|G-Shock Men's Gre...|         Watches|          5|            1|          2|   N|                Y|      Perfect watch!|Watch is perfect....| 2015-08-31|\n",
            "|         US|   44751341| RX27XIIWY5JPB|B004LBPB7Q|     124278407|Heiden Quad Watch...|         Watches|          4|            0|          0|   N|                Y|Great quality and...|Great quality and...| 2015-08-31|\n",
            "|         US|    9962330|R15C7QEZT0LGZN|B00KGTVGKS|      28017857|Fossil Women's ES...|         Watches|          4|            2|          2|   N|                Y|           Satisfied|The watch was pre...| 2015-08-31|\n",
            "|         US|   16097204|R361XSS37V0NCZ|B0039UT5OU|     685450910|Casio General Men...|         Watches|          1|            0|          0|   N|                N|I do not think th...|I bought this wat...| 2015-08-31|\n",
            "|         US|   51330346| ROTNLALUAJAUB|B00MPF0XJQ|     767769082|2Tone Gold Silver...|         Watches|          3|            0|          0|   N|                Y|         Three Stars|It is a cheap wat...| 2015-08-31|\n",
            "|         US|    4201739|R2DYX7QU6BGOHR|B003P1OHHS|     648595227|Bulova Men's 98B1...|         Watches|          5|            0|          0|   N|                Y|          Five Stars|Heavier than i th...| 2015-08-31|\n",
            "|         US|   26339765| RWASY7FKI7QOT|B00R70YEOE|     457338020|Casio - G-Shock -...|         Watches|          5|            2|          3|   N|                Y|  Worth it - love it|Had it for severa...| 2015-08-31|\n",
            "|         US|    2692576|R2KKYZIN3CCL21|B000FVE3BG|     824370661|Invicta Men's 332...|         Watches|          5|            0|          0|   N|                Y|This is when diff...|This one is diffe...| 2015-08-31|\n",
            "|         US|   44713366|R22H4FGVD5O52O|B008X6JB12|     814431355|Seiko Women's SUT...|         Watches|          4|            1|          1|   N|                Y|Thewatch is attra...|The watch is attr...| 2015-08-31|\n",
            "|         US|   32778769|R11UACZERCM4ZY|B0040UOFPW|     187700878|Anne Klein Women'...|         Watches|          5|            0|          0|   N|                Y|          Five Stars|      said my wife..| 2015-08-31|\n",
            "|         US|   27258523|R1AT8NQ38UQOL6|B00UR2R5UY|     594315262|Guess U13630G1 Me...|         Watches|          5|            0|          0|   N|                Y|          Five Stars|Nice watch, on ti...| 2015-08-31|\n",
            "|         US|   42646538|R2NCZRQGIF1Q75|B00HFF57L0|     520810507|Nixon Men's Geo V...|         Watches|          4|            0|          0|   N|                Y|        Very stylish|Looks great and l...| 2015-08-31|\n",
            "+-----------+-----------+--------------+----------+--------------+--------------------+----------------+-----------+-------------+-----------+----+-----------------+--------------------+--------------------+-----------+\n",
            "only showing top 20 rows\n",
            "\n"
          ]
        }
      ],
      "source": [
        "from pyspark import SparkFiles\n",
        "url = \"https://s3.amazonaws.com/amazon-reviews-pds/tsv/amazon_reviews_us_Watches_v1_00.tsv.gz\"\n",
        "spark.sparkContext.addFile(url)\n",
        "df = spark.read.option(\"encoding\", \"UTF-8\").csv(SparkFiles.get(\"\"), sep=\"\\t\", header=True, inferSchema=True)\n",
        "df.show()"
      ]
    },
    {
      "cell_type": "code",
      "execution_count": null,
      "metadata": {
        "colab": {
          "base_uri": "https://localhost:8080/"
        },
        "id": "Rg7Qso0mCMWS",
        "outputId": "7c8c3856-71b9-4282-e4a9-27a99b84408b"
      },
      "outputs": [
        {
          "output_type": "execute_result",
          "data": {
            "text/plain": [
              "StructType(List(StructField(marketplace,StringType,true),StructField(customer_id,IntegerType,true),StructField(review_id,StringType,true),StructField(product_id,StringType,true),StructField(product_parent,IntegerType,true),StructField(product_title,StringType,true),StructField(product_category,StringType,true),StructField(star_rating,IntegerType,true),StructField(helpful_votes,IntegerType,true),StructField(total_votes,IntegerType,true),StructField(vine,StringType,true),StructField(verified_purchase,StringType,true),StructField(review_headline,StringType,true),StructField(review_body,StringType,true),StructField(review_date,StringType,true)))"
            ]
          },
          "metadata": {},
          "execution_count": 4
        }
      ],
      "source": [
        "#to check the datatypes in the dataframe\n",
        "df.schema"
      ]
    },
    {
      "cell_type": "markdown",
      "metadata": {
        "id": "2yUSe55VY-9t"
      },
      "source": [
        "### Create DataFrames to match tables"
      ]
    },
    {
      "cell_type": "code",
      "execution_count": null,
      "metadata": {
        "colab": {
          "base_uri": "https://localhost:8080/"
        },
        "id": "C8REmY1aY-9u",
        "outputId": "4be3f2f2-be3b-429d-9d5e-82515f7782b2"
      },
      "outputs": [
        {
          "output_type": "stream",
          "name": "stdout",
          "text": [
            "+-----------+-----------+--------------+----------+--------------+--------------------+----------------+-----------+-------------+-----------+----+-----------------+--------------------+--------------------+-----------+\n",
            "|marketplace|customer_id|     review_id|product_id|product_parent|       product_title|product_category|star_rating|helpful_votes|total_votes|vine|verified_purchase|     review_headline|         review_body|review_date|\n",
            "+-----------+-----------+--------------+----------+--------------+--------------------+----------------+-----------+-------------+-----------+----+-----------------+--------------------+--------------------+-----------+\n",
            "|         US|    3653882|R3O9SGZBVQBV76|B00FALQ1ZC|     937001370|Invicta Women's 1...|         Watches|          5|            0|          0|   N|                Y|          Five Stars|Absolutely love t...| 2015-08-31|\n",
            "|         US|   14661224| RKH8BNC3L5DLF|B00D3RGO20|     484010722|Kenneth Cole New ...|         Watches|          5|            0|          0|   N|                Y|I love thiswatch ...|I love this watch...| 2015-08-31|\n",
            "|         US|   27324930|R2HLE8WKZSU3NL|B00DKYC7TK|     361166390|Ritche 22mm Black...|         Watches|          2|            1|          1|   N|                Y|           Two Stars|           Scratches| 2015-08-31|\n",
            "|         US|    7211452|R31U3UH5AZ42LL|B000EQS1JW|     958035625|Citizen Men's BM8...|         Watches|          5|            0|          0|   N|                Y|          Five Stars|It works well on ...| 2015-08-31|\n",
            "|         US|   12733322|R2SV659OUJ945Y|B00A6GFD7S|     765328221|Orient ER27009B M...|         Watches|          4|            0|          0|   N|                Y|Beautiful face, b...|Beautiful watch f...| 2015-08-31|\n",
            "|         US|    6576411| RA51CP8TR5A2L|B00EYSOSE8|     230493695|Casio Men's GW-94...|         Watches|          5|            0|          0|   N|                Y|       No complaints|i love this watch...| 2015-08-31|\n",
            "|         US|   11811565| RB2Q7DLDN6TH6|B00WM0QA3M|     549298279|Fossil Women's ES...|         Watches|          5|            1|          1|   N|                Y|          Five Stars|for my wife and s...| 2015-08-31|\n",
            "|         US|   49401598|R2RHFJV0UYBK3Y|B00A4EYBR0|     844009113|INFANTRY Mens Nig...|         Watches|          1|            1|          5|   N|                N|I was about to bu...|I was about to bu...| 2015-08-31|\n",
            "|         US|   45925069|R2Z6JOQ94LFHEP|B00MAMPGGE|     263720892|G-Shock Men's Gre...|         Watches|          5|            1|          2|   N|                Y|      Perfect watch!|Watch is perfect....| 2015-08-31|\n",
            "|         US|   44751341| RX27XIIWY5JPB|B004LBPB7Q|     124278407|Heiden Quad Watch...|         Watches|          4|            0|          0|   N|                Y|Great quality and...|Great quality and...| 2015-08-31|\n",
            "|         US|    9962330|R15C7QEZT0LGZN|B00KGTVGKS|      28017857|Fossil Women's ES...|         Watches|          4|            2|          2|   N|                Y|           Satisfied|The watch was pre...| 2015-08-31|\n",
            "|         US|   16097204|R361XSS37V0NCZ|B0039UT5OU|     685450910|Casio General Men...|         Watches|          1|            0|          0|   N|                N|I do not think th...|I bought this wat...| 2015-08-31|\n",
            "|         US|   51330346| ROTNLALUAJAUB|B00MPF0XJQ|     767769082|2Tone Gold Silver...|         Watches|          3|            0|          0|   N|                Y|         Three Stars|It is a cheap wat...| 2015-08-31|\n",
            "|         US|    4201739|R2DYX7QU6BGOHR|B003P1OHHS|     648595227|Bulova Men's 98B1...|         Watches|          5|            0|          0|   N|                Y|          Five Stars|Heavier than i th...| 2015-08-31|\n",
            "|         US|   26339765| RWASY7FKI7QOT|B00R70YEOE|     457338020|Casio - G-Shock -...|         Watches|          5|            2|          3|   N|                Y|  Worth it - love it|Had it for severa...| 2015-08-31|\n",
            "|         US|    2692576|R2KKYZIN3CCL21|B000FVE3BG|     824370661|Invicta Men's 332...|         Watches|          5|            0|          0|   N|                Y|This is when diff...|This one is diffe...| 2015-08-31|\n",
            "|         US|   44713366|R22H4FGVD5O52O|B008X6JB12|     814431355|Seiko Women's SUT...|         Watches|          4|            1|          1|   N|                Y|Thewatch is attra...|The watch is attr...| 2015-08-31|\n",
            "|         US|   32778769|R11UACZERCM4ZY|B0040UOFPW|     187700878|Anne Klein Women'...|         Watches|          5|            0|          0|   N|                Y|          Five Stars|      said my wife..| 2015-08-31|\n",
            "|         US|   27258523|R1AT8NQ38UQOL6|B00UR2R5UY|     594315262|Guess U13630G1 Me...|         Watches|          5|            0|          0|   N|                Y|          Five Stars|Nice watch, on ti...| 2015-08-31|\n",
            "|         US|   42646538|R2NCZRQGIF1Q75|B00HFF57L0|     520810507|Nixon Men's Geo V...|         Watches|          4|            0|          0|   N|                Y|        Very stylish|Looks great and l...| 2015-08-31|\n",
            "+-----------+-----------+--------------+----------+--------------+--------------------+----------------+-----------+-------------+-----------+----+-----------------+--------------------+--------------------+-----------+\n",
            "only showing top 20 rows\n",
            "\n"
          ]
        }
      ],
      "source": [
        "from pyspark.sql.functions import to_date\n",
        "# Read in the Review dataset as a DataFrame\n",
        "customer_clean_df = df.dropna()\n",
        "customer_clean_df.show()"
      ]
    },
    {
      "cell_type": "code",
      "execution_count": null,
      "metadata": {
        "colab": {
          "base_uri": "https://localhost:8080/"
        },
        "id": "6Sg0fiDva_Df",
        "outputId": "b998a3df-9827-4967-d09f-22b86a75352d"
      },
      "outputs": [
        {
          "output_type": "stream",
          "name": "stdout",
          "text": [
            "+-----------+-----------+--------------+----------+--------------+--------------------+----------------+-----------+-------------+-----------+----+-----------------+--------------------+--------------------+-----------+\n",
            "|marketplace|customer_id|     review_id|product_id|product_parent|       product_title|product_category|star_rating|helpful_votes|total_votes|vine|verified_purchase|     review_headline|         review_body|review_date|\n",
            "+-----------+-----------+--------------+----------+--------------+--------------------+----------------+-----------+-------------+-----------+----+-----------------+--------------------+--------------------+-----------+\n",
            "|         US|   43765005|R1006OPQYUMAHS|B0000TIIZ0|     529990321|Timex Women's T47...|         Watches|          1|            4|          5|   N|                Y|   Not very happy...|[[ASIN:B0000TIIZ0...| 2008-03-05|\n",
            "|         US|   44007561|R1010XUX2AIF10|B004KTK2M8|      38406392|Leather Watchband...|         Watches|          5|            0|          0|   N|                Y|          Watch band|Excellent althoug...| 2013-04-11|\n",
            "|         US|   52805367|R102DONPK6YEGN|B00NHEU9U2|      33550162|Fanmis Men's Wate...|         Watches|          5|            0|          0|   N|                Y|Greatwatch. Price...|Great watch. Pric...| 2015-06-23|\n",
            "|         US|   18449245|R102N48HXFM9WY|B000PSQXWG|     517553139|Nautica Men's N14...|         Watches|          5|            0|          0|   N|                Y|      Very practical|I love the simpli...| 2013-02-04|\n",
            "|         US|   18106128|R1060WX8UX26JV|B0045H3K0G|     989815375|Columbia Men's CT...|         Watches|          2|            0|          0|   N|                Y|The buttons are t...|I've had the watc...| 2013-04-15|\n",
            "|         US|   44398606|R106D023EFXYHQ|B007900Q9O|     159678416|Citizen Quartz Go...|         Watches|          5|            0|          0|   N|                N|     Very nice watch|Compliments the d...| 2014-09-27|\n",
            "|         US|   44609431|R107WJY4V4IZ35|B008DZVXVE|     541585709|Swiss Legend Men'...|         Watches|          5|            0|          0|   N|                Y|         Great Watch|Nice look, excell...| 2012-12-21|\n",
            "|         US|    6507909|R10B275CIJ1QSG|B003WPUU0U|     386958467|G-SHOCK The GA 10...|         Watches|          4|            0|          0|   N|                Y|   wow this is great|in this price you...| 2013-10-23|\n",
            "|         US|   22307556|R10BIT0LX7BBYD|B00DBUVKP0|     578040401|Citizen Men's JY8...|         Watches|          4|            1|          2|   N|                N|More questions th...|Had it on for abo...| 2015-06-21|\n",
            "|         US|   18425532|R10C1EZ2LJLSKN|B0088131JK|     326602930|ADIDAS Performanc...|         Watches|          5|            0|          0|   N|                Y|          Five Stars|Excellent product...| 2015-04-24|\n",
            "+-----------+-----------+--------------+----------+--------------+--------------------+----------------+-----------+-------------+-----------+----+-----------------+--------------------+--------------------+-----------+\n",
            "only showing top 10 rows\n",
            "\n"
          ]
        }
      ],
      "source": [
        "# Drop duplicates\n",
        "customer_clean_1_df = customer_clean_df.drop_duplicates()\n",
        "customer_clean_1_df.show(10)"
      ]
    },
    {
      "cell_type": "code",
      "execution_count": null,
      "metadata": {
        "colab": {
          "base_uri": "https://localhost:8080/"
        },
        "id": "Mn-7HHrSj61H",
        "outputId": "f34802c7-a888-4bca-8367-d733af87332c"
      },
      "outputs": [
        {
          "output_type": "stream",
          "name": "stdout",
          "text": [
            "+-----------+--------------+\n",
            "|customer_id|customer_count|\n",
            "+-----------+--------------+\n",
            "|    1567510|             1|\n",
            "|   19502021|             1|\n",
            "|   12819130|             1|\n",
            "|   35329257|             2|\n",
            "|     108460|             1|\n",
            "+-----------+--------------+\n",
            "only showing top 5 rows\n",
            "\n"
          ]
        }
      ],
      "source": [
        "# Create the customers_table DataFrame\n",
        "customers_df = customer_clean_df.groupby(\"customer_id\").agg({\"customer_id\":\"count\"}).withColumnRenamed(\"count(customer_id)\", \"customer_count\")\n",
        "customers_df.show(5)"
      ]
    },
    {
      "cell_type": "code",
      "execution_count": null,
      "metadata": {
        "colab": {
          "base_uri": "https://localhost:8080/"
        },
        "id": "XuZxoZ2qj6-c",
        "outputId": "2896844e-14f2-4043-ed97-b18feb87dd66"
      },
      "outputs": [
        {
          "output_type": "execute_result",
          "data": {
            "text/plain": [
              "StructType(List(StructField(customer_id,IntegerType,true),StructField(customer_count,LongType,false)))"
            ]
          },
          "metadata": {},
          "execution_count": 8
        }
      ],
      "source": [
        "customers_df.schema"
      ]
    },
    {
      "cell_type": "code",
      "execution_count": null,
      "metadata": {
        "colab": {
          "base_uri": "https://localhost:8080/"
        },
        "id": "m9L1w7qLj7BF",
        "outputId": "ebec423a-247f-47e9-e6f3-999366a2bd2e"
      },
      "outputs": [
        {
          "output_type": "stream",
          "name": "stdout",
          "text": [
            "+----------+--------------------+\n",
            "|product_id|       product_title|\n",
            "+----------+--------------------+\n",
            "|B00EVX7V1I|Game Time Women's...|\n",
            "|B009S4DODY|XOXO Women's XO55...|\n",
            "|B00LBKXQRW|Anne Klein Women'...|\n",
            "|B0009P679Y|Invicta Men's 993...|\n",
            "|B00DHF30RU|M&c Women's | Cla...|\n",
            "|B00NIDA43Y|GuTe Classic Skel...|\n",
            "|B008EQDDPQ|Nautica Men's N13...|\n",
            "|B004VRBZ66|Timex Men's T2N63...|\n",
            "|B009BEO81I|        Fossil Riley|\n",
            "|B008B39MTI|XOXO Women's XO55...|\n",
            "|B00TGPM8PU|Handmade Wooden W...|\n",
            "|B00VNXQQQ0|Eterna 2520-41-64...|\n",
            "|B00B1PV1C4|Nautica Men's N19...|\n",
            "|B00N1Y8TQ4|Tissot Men's T095...|\n",
            "|B00G6DBTY6|red line Men's RL...|\n",
            "|B00HM04AYI|Columbia Men's Fi...|\n",
            "|B00VI8HB96|GUESS I90176L1 Wo...|\n",
            "|B00IT25WJU|LanTac DGN556B Dr...|\n",
            "|B0106S12XE|Skmei S Shock Ana...|\n",
            "|B00FPSJ63Y|Michael Kors Ladi...|\n",
            "+----------+--------------------+\n",
            "only showing top 20 rows\n",
            "\n"
          ]
        }
      ],
      "source": [
        "# Create the products_table DataFrame and drop duplicates.\n",
        "#df.filter(\"price<20\").select(\"points\",\"country\",\"price\").show(5)\n",
        "products_df = customer_clean_df.select([\"product_id\",\"product_title\"]).drop_duplicates()\n",
        "products_df.show(20)"
      ]
    },
    {
      "cell_type": "code",
      "execution_count": null,
      "metadata": {
        "colab": {
          "base_uri": "https://localhost:8080/"
        },
        "id": "oA_XCJVrkXj7",
        "outputId": "fa2d4b5d-1cda-4e7d-c7db-84630b2b1f55"
      },
      "outputs": [
        {
          "output_type": "execute_result",
          "data": {
            "text/plain": [
              "StructType(List(StructField(product_id,StringType,true),StructField(product_title,StringType,true)))"
            ]
          },
          "metadata": {},
          "execution_count": 10
        }
      ],
      "source": [
        "products_df.schema"
      ]
    },
    {
      "cell_type": "code",
      "execution_count": null,
      "metadata": {
        "colab": {
          "base_uri": "https://localhost:8080/"
        },
        "id": "mU7gVppjkb9O",
        "outputId": "bd182e0e-6c54-4b04-bf95-f2f66a7ccea3"
      },
      "outputs": [
        {
          "output_type": "stream",
          "name": "stdout",
          "text": [
            "+--------------+-----------+----------+--------------+-----------+\n",
            "|     review_id|customer_id|product_id|product_parent|review_date|\n",
            "+--------------+-----------+----------+--------------+-----------+\n",
            "|R3O9SGZBVQBV76|    3653882|B00FALQ1ZC|     937001370| 2015-08-31|\n",
            "| RKH8BNC3L5DLF|   14661224|B00D3RGO20|     484010722| 2015-08-31|\n",
            "|R2HLE8WKZSU3NL|   27324930|B00DKYC7TK|     361166390| 2015-08-31|\n",
            "|R31U3UH5AZ42LL|    7211452|B000EQS1JW|     958035625| 2015-08-31|\n",
            "|R2SV659OUJ945Y|   12733322|B00A6GFD7S|     765328221| 2015-08-31|\n",
            "| RA51CP8TR5A2L|    6576411|B00EYSOSE8|     230493695| 2015-08-31|\n",
            "| RB2Q7DLDN6TH6|   11811565|B00WM0QA3M|     549298279| 2015-08-31|\n",
            "|R2RHFJV0UYBK3Y|   49401598|B00A4EYBR0|     844009113| 2015-08-31|\n",
            "|R2Z6JOQ94LFHEP|   45925069|B00MAMPGGE|     263720892| 2015-08-31|\n",
            "| RX27XIIWY5JPB|   44751341|B004LBPB7Q|     124278407| 2015-08-31|\n",
            "+--------------+-----------+----------+--------------+-----------+\n",
            "only showing top 10 rows\n",
            "\n"
          ]
        }
      ],
      "source": [
        "# Create the review_id_table DataFrame.\n",
        "# Convert the 'review_date' column to a date datatype with to_date(\"review_date\", 'yyyy-MM-dd').alias(\"review_date\")\n",
        "review_id_df = customer_clean_df.select([\"review_id\",\"customer_id\",\"product_id\",\"product_parent\",to_date(\"review_date\", 'yyyy-MM-dd').alias(\"review_date\")])\n",
        "review_id_df.show(10)"
      ]
    },
    {
      "cell_type": "code",
      "execution_count": null,
      "metadata": {
        "colab": {
          "base_uri": "https://localhost:8080/"
        },
        "id": "nmU6kMSDkb_7",
        "outputId": "bcf4ab3c-2646-4d7e-bcf1-4608c31dc7d2"
      },
      "outputs": [
        {
          "output_type": "execute_result",
          "data": {
            "text/plain": [
              "StructType(List(StructField(review_id,StringType,true),StructField(customer_id,IntegerType,true),StructField(product_id,StringType,true),StructField(product_parent,IntegerType,true),StructField(review_date,DateType,true)))"
            ]
          },
          "metadata": {},
          "execution_count": 12
        }
      ],
      "source": [
        "review_id_df.schema"
      ]
    },
    {
      "cell_type": "code",
      "execution_count": null,
      "metadata": {
        "colab": {
          "base_uri": "https://localhost:8080/"
        },
        "id": "lzMmkdKmY--D",
        "outputId": "0138a667-ae51-48c8-f4f9-6add675c857b"
      },
      "outputs": [
        {
          "output_type": "stream",
          "name": "stdout",
          "text": [
            "+--------------+-----------+-------------+-----------+----+-----------------+\n",
            "|     review_id|star_rating|helpful_votes|total_votes|vine|verified_purchase|\n",
            "+--------------+-----------+-------------+-----------+----+-----------------+\n",
            "|R1006OPQYUMAHS|          1|            4|          5|   N|                Y|\n",
            "|R1010XUX2AIF10|          5|            0|          0|   N|                Y|\n",
            "|R102DONPK6YEGN|          5|            0|          0|   N|                Y|\n",
            "|R102N48HXFM9WY|          5|            0|          0|   N|                Y|\n",
            "|R1060WX8UX26JV|          2|            0|          0|   N|                Y|\n",
            "|R106D023EFXYHQ|          5|            0|          0|   N|                N|\n",
            "|R107WJY4V4IZ35|          5|            0|          0|   N|                Y|\n",
            "|R10B275CIJ1QSG|          4|            0|          0|   N|                Y|\n",
            "|R10BIT0LX7BBYD|          4|            1|          2|   N|                N|\n",
            "|R10C1EZ2LJLSKN|          5|            0|          0|   N|                Y|\n",
            "|R10EFKNXWK3DPX|          5|            0|          2|   N|                Y|\n",
            "|R10EVIW43OIYWF|          4|            2|          2|   N|                Y|\n",
            "|R10EZ3YEUODPD0|          5|            0|          0|   N|                Y|\n",
            "|R10HN9CWJDWYKL|          5|            0|          0|   N|                Y|\n",
            "|R10HNXGG9ECK9E|          4|            0|          0|   N|                Y|\n",
            "|R10I42JCWJBNAW|          5|            0|          1|   N|                N|\n",
            "|R10IR51K0MG2QX|          5|            2|          2|   N|                Y|\n",
            "|R10KR7KSLNPG06|          5|            0|          1|   N|                Y|\n",
            "|R10L72T1ZXKS2C|          5|            0|          0|   N|                Y|\n",
            "|R10MU8Y3PBZBCC|          5|            0|          0|   N|                Y|\n",
            "+--------------+-----------+-------------+-----------+----+-----------------+\n",
            "only showing top 20 rows\n",
            "\n"
          ]
        }
      ],
      "source": [
        "# Create the vine_table. DataFrame\n",
        "vine_df = customer_clean_1_df.select([\"review_id\",\"star_rating\",\"helpful_votes\",\"total_votes\",\"vine\",\"verified_purchase\"])\n",
        "vine_df.show(20)"
      ]
    },
    {
      "cell_type": "code",
      "execution_count": null,
      "metadata": {
        "colab": {
          "base_uri": "https://localhost:8080/"
        },
        "id": "PyIl4h3dfRDp",
        "outputId": "2c6a5e31-7286-45b3-df58-f13d56b04951"
      },
      "outputs": [
        {
          "output_type": "execute_result",
          "data": {
            "text/plain": [
              "StructType(List(StructField(review_id,StringType,true),StructField(star_rating,IntegerType,true),StructField(helpful_votes,IntegerType,true),StructField(total_votes,IntegerType,true),StructField(vine,StringType,true),StructField(verified_purchase,StringType,true)))"
            ]
          },
          "metadata": {},
          "execution_count": 14
        }
      ],
      "source": [
        "vine_df.schema"
      ]
    },
    {
      "cell_type": "code",
      "execution_count": null,
      "metadata": {
        "colab": {
          "base_uri": "https://localhost:8080/"
        },
        "id": "hNr-qlIngblf",
        "outputId": "1d83ef80-7d86-40dc-9dbe-adb38845f480"
      },
      "outputs": [
        {
          "output_type": "stream",
          "name": "stdout",
          "text": [
            "+--------------+-----------+-------------+-----------+----+-----------------+\n",
            "|     review_id|star_rating|helpful_votes|total_votes|vine|verified_purchase|\n",
            "+--------------+-----------+-------------+-----------+----+-----------------+\n",
            "|R1006OPQYUMAHS|          1|            4|          5|   N|                Y|\n",
            "|R1010XUX2AIF10|          5|            0|          0|   N|                Y|\n",
            "|R102DONPK6YEGN|          5|            0|          0|   N|                Y|\n",
            "|R102N48HXFM9WY|          5|            0|          0|   N|                Y|\n",
            "|R1060WX8UX26JV|          2|            0|          0|   N|                Y|\n",
            "|R106D023EFXYHQ|          5|            0|          0|   N|                N|\n",
            "|R107WJY4V4IZ35|          5|            0|          0|   N|                Y|\n",
            "|R10B275CIJ1QSG|          4|            0|          0|   N|                Y|\n",
            "|R10BIT0LX7BBYD|          4|            1|          2|   N|                N|\n",
            "|R10C1EZ2LJLSKN|          5|            0|          0|   N|                Y|\n",
            "+--------------+-----------+-------------+-----------+----+-----------------+\n",
            "only showing top 10 rows\n",
            "\n"
          ]
        }
      ],
      "source": [
        "#we need to convert the \"star_rating\" datatype into integer , since we have defined it as an integer in the \"vine_table\" we created in pgAdmin.\n",
        "#review_id_df = customer_clean_df.select([\"review_id\",\"customer_id\",\"product_id\",\"product_parent\",to_date(\"review_date\", 'yyyy-MM-dd').alias(\"review_date\")])\n",
        "#data_df = data_df.withColumn(\"Plays\", data_df[\"Plays\"].cast(IntegerType()))\n",
        "#customers_df = customers_df.withColumn(\"customer_count\",col(\"customer_count\").cast(\"int\"))\n",
        "vine1_df = vine_df.select([\"review_id\",vine_df[\"star_rating\"].cast(\"int\").alias(\"star_rating\"),\"helpful_votes\",\"total_votes\",\"vine\",\"verified_purchase\"])\n",
        "vine1_df .show(10)"
      ]
    },
    {
      "cell_type": "code",
      "execution_count": null,
      "metadata": {
        "colab": {
          "base_uri": "https://localhost:8080/"
        },
        "id": "j4Z_3le8oYEv",
        "outputId": "df9a873f-ccf1-4326-d5d5-d2865c91ec2f"
      },
      "outputs": [
        {
          "output_type": "execute_result",
          "data": {
            "text/plain": [
              "StructType(List(StructField(review_id,StringType,true),StructField(star_rating,IntegerType,true),StructField(helpful_votes,IntegerType,true),StructField(total_votes,IntegerType,true),StructField(vine,StringType,true),StructField(verified_purchase,StringType,true)))"
            ]
          },
          "metadata": {},
          "execution_count": 16
        }
      ],
      "source": [
        "vine1_df.schema"
      ]
    },
    {
      "cell_type": "markdown",
      "metadata": {
        "id": "jITZhLkmY--J"
      },
      "source": [
        "### Analysing the vine data"
      ]
    },
    {
      "cell_type": "code",
      "execution_count": null,
      "metadata": {
        "colab": {
          "base_uri": "https://localhost:8080/"
        },
        "id": "Exuo6ebUsCqW",
        "outputId": "73f59c1f-414b-489b-cebb-ffab506b0067"
      },
      "outputs": [
        {
          "output_type": "stream",
          "name": "stdout",
          "text": [
            "+--------------+-----------+-------------+-----------+----+-----------------+\n",
            "|     review_id|star_rating|helpful_votes|total_votes|vine|verified_purchase|\n",
            "+--------------+-----------+-------------+-----------+----+-----------------+\n",
            "| RMOCPVGMFQXIQ|          5|           45|         48|   N|                Y|\n",
            "| R4IQVOPQE4BM1|          5|          130|        135|   N|                Y|\n",
            "| RO51U1KZHZ9QF|          5|           48|         52|   N|                Y|\n",
            "|R359CFNCBX2JE3|          5|           24|         25|   N|                Y|\n",
            "|R16DXPAC1HF2JK|          5|           21|         21|   N|                Y|\n",
            "|R324J919Y7WWO1|          4|           30|         30|   N|                Y|\n",
            "| R6G3AWQJU1GBL|          5|           24|         25|   N|                Y|\n",
            "|R19VFTR6K86I38|          1|            2|         30|   N|                Y|\n",
            "|R22HZGOPSVKB4I|          4|           31|         32|   N|                Y|\n",
            "|R2N0SVF20TLS9T|          3|           29|         32|   N|                N|\n",
            "+--------------+-----------+-------------+-----------+----+-----------------+\n",
            "only showing top 10 rows\n",
            "\n"
          ]
        }
      ],
      "source": [
        "# 1.Filter the Vine DataFrame by those that had 20+ total votes\n",
        "df1 = vine1_df.filter(vine1_df[\"total_votes\"] >= 20)\n",
        "df1.show(10)"
      ]
    },
    {
      "cell_type": "code",
      "execution_count": null,
      "metadata": {
        "colab": {
          "base_uri": "https://localhost:8080/"
        },
        "id": "MFqR0WwonulM",
        "outputId": "621a5632-cf8c-4c54-afa0-7dd5225f8b68"
      },
      "outputs": [
        {
          "output_type": "stream",
          "name": "stdout",
          "text": [
            "+--------------+-----------+-------------+-----------+----+-----------------+\n",
            "|     review_id|star_rating|helpful_votes|total_votes|vine|verified_purchase|\n",
            "+--------------+-----------+-------------+-----------+----+-----------------+\n",
            "| RMOCPVGMFQXIQ|          5|           45|         48|   N|                Y|\n",
            "| R4IQVOPQE4BM1|          5|          130|        135|   N|                Y|\n",
            "| RO51U1KZHZ9QF|          5|           48|         52|   N|                Y|\n",
            "|R359CFNCBX2JE3|          5|           24|         25|   N|                Y|\n",
            "|R16DXPAC1HF2JK|          5|           21|         21|   N|                Y|\n",
            "|R324J919Y7WWO1|          4|           30|         30|   N|                Y|\n",
            "| R6G3AWQJU1GBL|          5|           24|         25|   N|                Y|\n",
            "|R22HZGOPSVKB4I|          4|           31|         32|   N|                Y|\n",
            "|R2N0SVF20TLS9T|          3|           29|         32|   N|                N|\n",
            "|R397A0EWSWB8OM|          5|           21|         21|   N|                N|\n",
            "+--------------+-----------+-------------+-----------+----+-----------------+\n",
            "only showing top 10 rows\n",
            "\n"
          ]
        }
      ],
      "source": [
        "#2.retrieve all the rows where the number of helpful_votes divided by total_votes is equal to or greater than 50%.\n",
        "df2 = df1.filter(df1[\"helpful_votes\"]/df1[\"total_votes\"] >= 0.5)\n",
        "df2.show(10)"
      ]
    },
    {
      "cell_type": "code",
      "execution_count": null,
      "metadata": {
        "colab": {
          "base_uri": "https://localhost:8080/"
        },
        "id": "L3U6Niedoj8Z",
        "outputId": "1b6d323a-ef43-4288-bc67-8ab524225b76"
      },
      "outputs": [
        {
          "output_type": "stream",
          "name": "stdout",
          "text": [
            "+--------------+-----------+-------------+-----------+----+-----------------+\n",
            "|     review_id|star_rating|helpful_votes|total_votes|vine|verified_purchase|\n",
            "+--------------+-----------+-------------+-----------+----+-----------------+\n",
            "|R1VTSAJEQNFBJE|          4|           23|         29|   Y|                N|\n",
            "|R3TZBND29248V0|          5|           66|         71|   Y|                N|\n",
            "|R2MEXGFT2R9U1D|          4|           32|         36|   Y|                N|\n",
            "|R2B8V45UKGS96Q|          4|           25|         26|   Y|                N|\n",
            "| RTSXZ0HZF623M|          3|           13|         22|   Y|                N|\n",
            "| R9K0LZV2BK9YY|          4|           37|         39|   Y|                N|\n",
            "|R3OWVKWQASMEUR|          3|           38|         41|   Y|                N|\n",
            "|R1JBQ8UBLA8N4X|          4|          349|        370|   Y|                N|\n",
            "|R23JRHQ7CL6T6Y|          2|           19|         21|   Y|                N|\n",
            "| REZLEYIW61ZA1|          1|           26|         29|   Y|                N|\n",
            "+--------------+-----------+-------------+-----------+----+-----------------+\n",
            "only showing top 10 rows\n",
            "\n"
          ]
        }
      ],
      "source": [
        "#3.Create a new DataFrame or table that retrieves all the rows where a review was written as part of the Vine program (paid), vine == 'Y'.\n",
        "vine_yes3_df = df2.filter(df2[\"vine\"] == \"Y\")\n",
        "vine_yes3_df.show(10)"
      ]
    },
    {
      "cell_type": "code",
      "execution_count": null,
      "metadata": {
        "colab": {
          "base_uri": "https://localhost:8080/"
        },
        "id": "_t59bjl6pegI",
        "outputId": "8357750b-e94e-4cfa-c503-7c79de58a435"
      },
      "outputs": [
        {
          "output_type": "stream",
          "name": "stdout",
          "text": [
            "+--------------+-----------+-------------+-----------+----+-----------------+\n",
            "|     review_id|star_rating|helpful_votes|total_votes|vine|verified_purchase|\n",
            "+--------------+-----------+-------------+-----------+----+-----------------+\n",
            "| RMOCPVGMFQXIQ|          5|           45|         48|   N|                Y|\n",
            "| R4IQVOPQE4BM1|          5|          130|        135|   N|                Y|\n",
            "| RO51U1KZHZ9QF|          5|           48|         52|   N|                Y|\n",
            "|R359CFNCBX2JE3|          5|           24|         25|   N|                Y|\n",
            "|R16DXPAC1HF2JK|          5|           21|         21|   N|                Y|\n",
            "|R324J919Y7WWO1|          4|           30|         30|   N|                Y|\n",
            "| R6G3AWQJU1GBL|          5|           24|         25|   N|                Y|\n",
            "|R22HZGOPSVKB4I|          4|           31|         32|   N|                Y|\n",
            "|R2N0SVF20TLS9T|          3|           29|         32|   N|                N|\n",
            "|R397A0EWSWB8OM|          5|           21|         21|   N|                N|\n",
            "+--------------+-----------+-------------+-----------+----+-----------------+\n",
            "only showing top 10 rows\n",
            "\n"
          ]
        }
      ],
      "source": [
        "#4.Create a new DataFrame and retrieve all the rows where the review was not part of the Vine program (unpaid), vine == 'N'.\n",
        "vine_No4_df = df2.filter(df2[\"vine\"] == \"N\")\n",
        "vine_No4_df.show(10)\n"
      ]
    },
    {
      "cell_type": "code",
      "execution_count": null,
      "metadata": {
        "colab": {
          "base_uri": "https://localhost:8080/"
        },
        "id": "QsiO3ZWtsnVe",
        "outputId": "b4134aa5-3758-4d33-be09-051517c88df8"
      },
      "outputs": [
        {
          "output_type": "execute_result",
          "data": {
            "text/plain": [
              "StructType(List(StructField(review_id,StringType,true),StructField(star_rating,IntegerType,true),StructField(helpful_votes,IntegerType,true),StructField(total_votes,IntegerType,true),StructField(vine,StringType,true),StructField(verified_purchase,StringType,true)))"
            ]
          },
          "metadata": {},
          "execution_count": 21
        }
      ],
      "source": [
        "vine_yes3_df.schema"
      ]
    },
    {
      "cell_type": "code",
      "execution_count": null,
      "metadata": {
        "colab": {
          "base_uri": "https://localhost:8080/"
        },
        "id": "OR5CbNaIq6Io",
        "outputId": "02589162-5e18-44f0-ca7e-e2fc6651b15b"
      },
      "outputs": [
        {
          "output_type": "stream",
          "name": "stdout",
          "text": [
            "Total_paid_number:\n",
            "47\n",
            "Paid_five_star_number:\n",
            "15\n",
            "Percentage_five_star_vine:\n",
            "0.3191489361702128\n"
          ]
        }
      ],
      "source": [
        "#5a.The number of 5-star reviews, and the percentage of 5-star reviews for the paid review vine == Y\n",
        "Paid_five_star_number = vine_yes3_df[vine_yes3_df['star_rating']== 5].count()\n",
        "Total_paid_number = vine_yes3_df.count()\n",
        "Percentage_five_star_vine = float(Paid_five_star_number) / float(Total_paid_number)\n",
        "print (\"Total_paid_number:\")\n",
        "print(Total_paid_number)\n",
        "print (\"Paid_five_star_number:\")\n",
        "print(Paid_five_star_number)\n",
        "print (\"Percentage_five_star_vine:\")\n",
        "print(Percentage_five_star_vine)"
      ]
    },
    {
      "cell_type": "code",
      "execution_count": null,
      "metadata": {
        "colab": {
          "base_uri": "https://localhost:8080/"
        },
        "id": "LmEqqAgCxjEx",
        "outputId": "8d352929-9dcc-4145-8a9b-f4cf72938d38"
      },
      "outputs": [
        {
          "output_type": "execute_result",
          "data": {
            "text/plain": [
              "StructType(List(StructField(review_id,StringType,true),StructField(star_rating,IntegerType,true),StructField(helpful_votes,IntegerType,true),StructField(total_votes,IntegerType,true),StructField(vine,StringType,true),StructField(verified_purchase,StringType,true)))"
            ]
          },
          "metadata": {},
          "execution_count": 23
        }
      ],
      "source": [
        "vine_No4_df.schema"
      ]
    },
    {
      "cell_type": "code",
      "execution_count": null,
      "metadata": {
        "colab": {
          "base_uri": "https://localhost:8080/"
        },
        "id": "tFneYWZwxv8s",
        "outputId": "a60cb4c0-7e2f-4964-9d85-897257af1c55"
      },
      "outputs": [
        {
          "output_type": "stream",
          "name": "stdout",
          "text": [
            "Total_Unpaid_number:\n",
            "8343\n",
            "Unpaid_five_star_number:\n",
            "4318\n",
            "Percentage_five_star_vine_Unpaid:\n",
            "0.5175596308282392\n"
          ]
        }
      ],
      "source": [
        "#5b.The number of 5-star reviews, and the percentage of 5-star reviews for the unpaid review vine == N\n",
        "Unpaid_five_star_number = vine_No4_df[vine_No4_df['star_rating']== 5].count()\n",
        "Total_Unpaid_number = vine_No4_df.count()\n",
        "Percentage_five_star_vine_Unpaid = float(Unpaid_five_star_number) / float(Total_Unpaid_number)\n",
        "print (\"Total_Unpaid_number:\")\n",
        "print(Total_Unpaid_number)\n",
        "print (\"Unpaid_five_star_number:\")\n",
        "print(Unpaid_five_star_number)\n",
        "print (\"Percentage_five_star_vine_Unpaid:\")\n",
        "print(Percentage_five_star_vine_Unpaid)"
      ]
    },
    {
      "cell_type": "code",
      "execution_count": null,
      "metadata": {
        "id": "JOL8WqYGjnxG"
      },
      "outputs": [],
      "source": [
        "import matplotlib.pyplot as plt,numpy as np"
      ]
    },
    {
      "cell_type": "code",
      "execution_count": null,
      "metadata": {
        "colab": {
          "base_uri": "https://localhost:8080/",
          "height": 264
        },
        "id": "CBh0tIYtoz37",
        "outputId": "6291c43e-4d9b-4f6c-bb54-20ea8f4ecd8e"
      },
      "outputs": [
        {
          "output_type": "display_data",
          "data": {
            "text/plain": [
              "<Figure size 432x288 with 1 Axes>"
            ],
            "image/png": "[encoded data removed]"
          },
          "metadata": {}
        }
      ],
      "source": [
        "p=np.array([Percentage_five_star_vine,1-Percentage_five_star_vine])\n",
        "labels=[\"5-star rating\",\"Non 5-star rating\"]\n",
        "plt.pie(p,labels=labels,autopct='%1.0f%%')\n",
        "plt.title(\"Records that were part of the Vine program(paid)\")\n",
        "plt.show()"
      ]
    },
    {
      "cell_type": "code",
      "execution_count": null,
      "metadata": {
        "colab": {
          "base_uri": "https://localhost:8080/",
          "height": 264
        },
        "id": "0l_164rCowRp",
        "outputId": "5fc10304-061f-4eb2-aa12-217a384e24fd"
      },
      "outputs": [
        {
          "output_type": "display_data",
          "data": {
            "text/plain": [
              "<Figure size 432x288 with 1 Axes>"
            ],
            "image/png": "[encoded data removed]"
          },
          "metadata": {}
        }
      ],
      "source": [
        "p=np.array([Percentage_five_star_vine_Unpaid,1-Percentage_five_star_vine_Unpaid])\n",
        "labels=[\"5-star rating\",\"Non 5-star rating\"]\n",
        "plt.pie(p,labels=labels,autopct='%1.0f%%')\n",
        "plt.title(\"Records that were not part of the Vine program(unpaid)\")\n",
        "plt.show()"
      ]
    },
    {
      "cell_type": "code",
      "source": [],
      "metadata": {
        "id": "qOWhaD6VT78u"
      },
      "execution_count": null,
      "outputs": []
    }
  ],
  "metadata": {
    "colab": {
      "provenance": []
    },
    "kernelspec": {
      "display_name": "Python 3.10.6 64-bit",
      "language": "python",
      "name": "python3"
    },
    "language_info": {
      "codemirror_mode": {
        "name": "ipython",
        "version": 3
      },
      "file_extension": ".py",
      "mimetype": "text/x-python",
      "name": "python",
      "nbconvert_exporter": "python",
      "pygments_lexer": "ipython3",
      "version": "3.10.6"
    },
    "nteract": {
      "version": "0.12.3"
    },
    "vscode": {
      "interpreter": {
        "hash": "e480c6674d5508fc8d9591b96da2b4549be3a1df6840d924f135492fd8e36576"
      }
    }
  },
  "nbformat": 4,
  "nbformat_minor": 0
}